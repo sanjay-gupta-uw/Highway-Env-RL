{
 "cells": [
  {
   "cell_type": "code",
   "execution_count": 1,
   "id": "02ac9b88",
   "metadata": {},
   "outputs": [
    {
     "data": {
      "image/png": "[encoded data removed]",
      "text/plain": [
       "<Figure size 640x480 with 1 Axes>"
      ]
     },
     "metadata": {},
     "output_type": "display_data"
    }
   ],
   "source": [
    "# Import libraries and make sure highway-env is installed properly\n",
    "import gymnasium\n",
    "import highway_env\n",
    "import numpy as np\n",
    "import matplotlib.pyplot as plt\n",
    "\n",
    "# Create the environment with visual rendering\n",
    "env = gymnasium.make(\"racetrack-v0\", render_mode=\"rgb_array\")\n",
    "obs, info = env.reset()\n",
    "\n",
    "# Render and show the first frame\n",
    "frame = env.render()\n",
    "plt.imshow(frame)\n",
    "plt.axis('off')\n",
    "plt.title(\"Initial Frame\")\n",
    "plt.show()\n",
    "\n",
    "env.close()"
   ]
  },
  {
   "cell_type": "code",
   "execution_count": 2,
   "id": "c1e8a8c9",
   "metadata": {},
   "outputs": [
    {
     "name": "stdout",
     "output_type": "stream",
     "text": [
      "Environment Information:\n",
      "{'action': {'lateral': True,\n",
      "            'longitudinal': False,\n",
      "            'target_speeds': [0, 5, 10],\n",
      "            'type': 'ContinuousAction'},\n",
      " 'action_reward': -0.3,\n",
      " 'centering_position': [0.5, 0.5],\n",
      " 'collision_reward': -1,\n",
      " 'controlled_vehicles': 1,\n",
      " 'duration': 300,\n",
      " 'lane_centering_cost': 4,\n",
      " 'lane_centering_reward': 1,\n",
      " 'manual_control': False,\n",
      " 'observation': {'align_to_vehicle_axes': True,\n",
      "                 'as_image': False,\n",
      "                 'features': ['presence', 'on_road'],\n",
      "                 'grid_size': [[-18, 18], [-18, 18]],\n",
      "                 'grid_step': [3, 3],\n",
      "                 'type': 'OccupancyGrid'},\n",
      " 'offscreen_rendering': False,\n",
      " 'other_vehicles': 1,\n",
      " 'other_vehicles_type': 'highway_env.vehicle.behavior.IDMVehicle',\n",
      " 'policy_frequency': 5,\n",
      " 'real_time_rendering': False,\n",
      " 'render_agent': True,\n",
      " 'scaling': 5.5,\n",
      " 'screen_height': 600,\n",
      " 'screen_width': 600,\n",
      " 'show_trajectories': False,\n",
      " 'simulation_frequency': 15}\n"
     ]
    }
   ],
   "source": [
    "from pprint import pprint\n",
    "\n",
    "# print the environment information\n",
    "print(\"Environment Information:\")\n",
    "pprint(env.unwrapped.config)"
   ]
  },
  {
   "cell_type": "code",
   "execution_count": 3,
   "id": "1aa6b2bc",
   "metadata": {},
   "outputs": [
    {
     "name": "stdout",
     "output_type": "stream",
     "text": [
      "2.17.1\n"
     ]
    }
   ],
   "source": [
    "import tensorboard\n",
    "print(tensorboard.__version__)"
   ]
  },
  {
   "cell_type": "code",
   "execution_count": 4,
   "id": "9b7f85c7",
   "metadata": {},
   "outputs": [],
   "source": [
    "import os\n",
    "import json\n",
    "import optuna\n",
    "import gymnasium as gym\n",
    "from stable_baselines3 import PPO\n",
    "from stable_baselines3.common.vec_env import DummyVecEnv, VecVideoRecorder\n",
    "from stable_baselines3.common.evaluation import evaluate_policy\n",
    "from stable_baselines3.common.env_util import make_vec_env\n",
    "from stable_baselines3.common.monitor import Monitor\n",
    "from moviepy.editor import preview\n",
    "\n",
    "# Disable MoviePy preview popup\n",
    "preview = lambda *args, **kwargs: None\n",
    "import matplotlib\n",
    "matplotlib.use(\"Agg\")  # Disable any interactive backend\n",
    "\n",
    "# Track best trial\n",
    "best_trials = {}\n",
    "\n",
    "def make_env(render_mode=None):\n",
    "    from gymnasium.wrappers import TimeLimit\n",
    "    def _init():\n",
    "        env = gym.make(\"racetrack-v0\", render_mode=render_mode)\n",
    "        env = TimeLimit(env, max_episode_steps=100)\n",
    "        env = Monitor(env)\n",
    "        return env\n",
    "    return _init\n",
    "\n",
    "def objective(trial):\n",
    "    algorithm = 'PPO'\n",
    "    ModelClass = PPO\n",
    "\n",
    "    # Hyperparameters\n",
    "    learning_rate = trial.suggest_float('learning_rate', 1e-5, 1e-3, log=True)\n",
    "    gamma = trial.suggest_float('gamma', 0.8, 0.99)\n",
    "    gae_lambda = trial.suggest_float('gae_lambda', 0.8, 0.95)\n",
    "    clip_range = trial.suggest_float('clip_range', 0.1, 0.4)\n",
    "    # n_steps = trial.suggest_int('n_steps', 64, 2048, log=True)\n",
    "    n_steps = trial.suggest_categorical('n_steps', [64, 128, 256, 512, 1024, 2048])\n",
    "    # batch_size = trial.suggest_int('batch_size', 32, 512, log=True)\n",
    "    batch_size = trial.suggest_categorical('batch_size', [32, 64, 128, 256, 512])\n",
    "    ent_coef = trial.suggest_float('ent_coef', 1e-5, 1e-1)\n",
    "    vf_coef = trial.suggest_float('vf_coef', 0.1, 1.0)\n",
    "    max_grad_norm = trial.suggest_float('max_grad_norm', 0.3, 1.0)\n",
    "    net_arch = trial.suggest_categorical('net_arch', [(128, 128), (256, 256)])\n",
    "\n",
    "    # Logging paths\n",
    "    trial_log_dir = f\"racetrack/{algorithm}/optuna_run/trial_{trial.number}/\"\n",
    "    video_eval_dir = os.path.join(trial_log_dir, \"video_eval\")\n",
    "    os.makedirs(video_eval_dir, exist_ok=True)\n",
    "\n",
    "    # Training environment (no render)\n",
    "    train_env = DummyVecEnv([make_env(render_mode=None)])\n",
    "\n",
    "    model = ModelClass(\n",
    "        policy=\"MlpPolicy\",\n",
    "        env=train_env,\n",
    "        learning_rate=learning_rate,\n",
    "        gamma=gamma,\n",
    "        gae_lambda=gae_lambda,\n",
    "        clip_range=clip_range,\n",
    "        n_steps=n_steps,\n",
    "        batch_size=batch_size,\n",
    "        ent_coef=ent_coef,\n",
    "        vf_coef=vf_coef,\n",
    "        max_grad_norm=max_grad_norm,\n",
    "        policy_kwargs=dict(net_arch=list(net_arch)),\n",
    "        verbose=0,\n",
    "        tensorboard_log=trial_log_dir\n",
    "    )\n",
    "\n",
    "    # Training loop with intermediate evaluation\n",
    "    total_timesteps = 10000\n",
    "    eval_interval = 2000\n",
    "    timesteps_run = 0\n",
    "\n",
    "    while timesteps_run < total_timesteps:\n",
    "        model.learn(\n",
    "            total_timesteps=eval_interval,\n",
    "            reset_num_timesteps=False,\n",
    "            tb_log_name=f\"{algorithm}_{trial.number}\",\n",
    "        )\n",
    "        timesteps_run += eval_interval\n",
    "        print(f\"✅ Model at {timesteps_run} timesteps\")\n",
    "\n",
    "    # Final evaluation\n",
    "    mean_reward, _ = evaluate_policy(model, train_env, n_eval_episodes=5, deterministic=True)\n",
    "    train_env.close()\n",
    "\n",
    "    best_trials[algorithm] = trial\n",
    "    trial.set_user_attr(\"mean_reward\", mean_reward)\n",
    "    return mean_reward\n",
    "\n",
    "# # Optuna study\n",
    "# study = optuna.create_study(direction=\"maximize\", sampler=optuna.samplers.TPESampler(seed=42))\n",
    "# study.optimize(objective, n_trials=8)\n",
    "\n",
    "# # Save best hyperparameters\n",
    "# out_dir = \"best_hyperparams/racetrack\"\n",
    "# os.makedirs(out_dir, exist_ok=True)\n",
    "\n",
    "# for algo, trial in best_trials.items():\n",
    "#     print(f\"\\n✅ Best trial for {algo}:\")\n",
    "#     print(f\"Value (Mean reward): {trial.user_attrs['mean_reward']}\")\n",
    "#     print(\"Params:\", trial.params)\n",
    "\n",
    "#     with open(os.path.join(out_dir, f\"{algo}.json\"), \"w\") as f:\n",
    "#         json.dump({\n",
    "#             \"value\": trial.user_attrs['mean_reward'],\n",
    "#             \"params\": trial.params\n",
    "#         }, f, indent=2)\n"
   ]
  },
  {
   "cell_type": "code",
   "execution_count": 9,
   "id": "e6bfd429",
   "metadata": {},
   "outputs": [
    {
     "name": "stdout",
     "output_type": "stream",
     "text": [
      "True\n",
      "NVIDIA GeForce RTX 3080\n",
      "{'action': {'lateral': True,\n",
      "            'longitudinal': False,\n",
      "            'target_speeds': [0, 5, 10],\n",
      "            'type': 'ContinuousAction'},\n",
      " 'action_reward': -0.3,\n",
      " 'centering_position': [0.5, 0.5],\n",
      " 'collision_reward': -1,\n",
      " 'controlled_vehicles': 1,\n",
      " 'duration': 300,\n",
      " 'lane_centering_cost': 4,\n",
      " 'lane_centering_reward': 1,\n",
      " 'manual_control': False,\n",
      " 'observation': {'align_to_vehicle_axes': True,\n",
      "                 'as_image': False,\n",
      "                 'features': ['presence', 'on_road'],\n",
      "                 'grid_size': [[-18, 18], [-18, 18]],\n",
      "                 'grid_step': [3, 3],\n",
      "                 'type': 'OccupancyGrid'},\n",
      " 'offscreen_rendering': False,\n",
      " 'other_vehicles': 1,\n",
      " 'other_vehicles_type': 'highway_env.vehicle.behavior.IDMVehicle',\n",
      " 'policy_frequency': 5,\n",
      " 'real_time_rendering': False,\n",
      " 'render_agent': True,\n",
      " 'scaling': 5.5,\n",
      " 'screen_height': 600,\n",
      " 'screen_width': 600,\n",
      " 'show_trajectories': False,\n",
      " 'simulation_frequency': 15}\n"
     ]
    }
   ],
   "source": [
    "import torch\n",
    "print(torch.cuda.is_available())   # Should be True\n",
    "print(torch.cuda.get_device_name(0))  # Should show GPU name\n",
    "env = DummyVecEnv([make_env(render_mode=\"rgb_array\")])\n",
    "pprint(env.envs[0].unwrapped.config)"
   ]
  },
  {
   "cell_type": "code",
   "execution_count": 6,
   "id": "3d95a890",
   "metadata": {},
   "outputs": [],
   "source": [
    "# import json\n",
    "\n",
    "# algo_name = \"PPO\"\n",
    "# ModelClass = PPO\n",
    "# with open(f\"best_hyperparams/racetrack/{algo_name}.json\", \"r\") as f:\n",
    "#     best_trial = json.load(f)\n",
    "\n",
    "# params = best_trial['params']\n",
    "# policy_kwargs = dict(net_arch=params.pop(\"net_arch\"))\n",
    "# # n_epochs = params.pop(\"num_epochs\")\n",
    "\n",
    "# from pprint import pprint\n",
    "# pprint(f\"Best hyperparameters for {algo_name}: {params}\")\n",
    "# # Create a SAC model with the best hyperparameters and train it for 20,000 timesteps\n",
    "# train_env = DummyVecEnv([make_env(render_mode=None)])\n",
    "# # print the action space\n",
    "# pprint(train_env.envs[0].unwrapped.config)\n",
    "# pprint(train_env.action_space)\n",
    "# # print(train_env.envs[0].action_type.actions)\n",
    "\n",
    "\n",
    "# model = ModelClass(\n",
    "#     \"MlpPolicy\",\n",
    "#     train_env,\n",
    "#     verbose=1,\n",
    "#     tensorboard_log=f\"runs/racetrack/{algo_name}_tuned\",\n",
    "#     policy_kwargs=policy_kwargs,\n",
    "#     # n_epochs=n_epochs,\n",
    "#     **params\n",
    "# )\n",
    "\n",
    "# # Train model\n",
    "# total_timesteps = 10000\n",
    "# save_interval = 2000\n",
    "# timesteps_run = 0\n",
    "# os.makedirs(\"checkpoints\", exist_ok=True)\n",
    "\n",
    "# while timesteps_run < total_timesteps:\n",
    "#     model.learn(\n",
    "#         total_timesteps=save_interval,\n",
    "#         reset_num_timesteps=False,\n",
    "#         tb_log_name=f\"racetrack_tuned_{algo_name}\",\n",
    "#         log_interval=1\n",
    "#     )\n",
    "#     timesteps_run += save_interval\n",
    "#     model.save(f\"checkpoints/racetrack_tuned_{algo_name}_{timesteps_run}\")\n",
    "#     print(f\"✅ Saved checkpoint at {timesteps_run} timesteps\")\n",
    "\n",
    "# # Save the trained model\n",
    "# model.save(f\"models/{algo_name}_trained\")\n"
   ]
  },
  {
   "cell_type": "code",
   "execution_count": 8,
   "id": "628f0709",
   "metadata": {},
   "outputs": [
    {
     "name": "stdout",
     "output_type": "stream",
     "text": [
      "Moviepy - Building video c:\\Users\\sanja\\4b\\ECE457C\\a3\\tuned\\racetrack\\PPO_tuned\\video_eval\\tuned_ppo1-step-0-to-step-200.mp4.\n",
      "Moviepy - Writing video c:\\Users\\sanja\\4b\\ECE457C\\a3\\tuned\\racetrack\\PPO_tuned\\video_eval\\tuned_ppo1-step-0-to-step-200.mp4\n",
      "\n"
     ]
    },
    {
     "name": "stderr",
     "output_type": "stream",
     "text": [
      "                                                              \r"
     ]
    },
    {
     "name": "stdout",
     "output_type": "stream",
     "text": [
      "Moviepy - Done !\n",
      "Moviepy - video ready c:\\Users\\sanja\\4b\\ECE457C\\a3\\tuned\\racetrack\\PPO_tuned\\video_eval\\tuned_ppo1-step-0-to-step-200.mp4\n",
      "🎥 Saved video for episode 1\n",
      "Moviepy - Building video c:\\Users\\sanja\\4b\\ECE457C\\a3\\tuned\\racetrack\\PPO_tuned\\video_eval\\tuned_ppo2-step-0-to-step-200.mp4.\n",
      "Moviepy - Writing video c:\\Users\\sanja\\4b\\ECE457C\\a3\\tuned\\racetrack\\PPO_tuned\\video_eval\\tuned_ppo2-step-0-to-step-200.mp4\n",
      "\n"
     ]
    },
    {
     "name": "stderr",
     "output_type": "stream",
     "text": [
      "                                                             \r"
     ]
    },
    {
     "name": "stdout",
     "output_type": "stream",
     "text": [
      "Moviepy - Done !\n",
      "Moviepy - video ready c:\\Users\\sanja\\4b\\ECE457C\\a3\\tuned\\racetrack\\PPO_tuned\\video_eval\\tuned_ppo2-step-0-to-step-200.mp4\n",
      "🎥 Saved video for episode 2\n",
      "Moviepy - Building video c:\\Users\\sanja\\4b\\ECE457C\\a3\\tuned\\racetrack\\PPO_tuned\\video_eval\\tuned_ppo3-step-0-to-step-200.mp4.\n",
      "Moviepy - Writing video c:\\Users\\sanja\\4b\\ECE457C\\a3\\tuned\\racetrack\\PPO_tuned\\video_eval\\tuned_ppo3-step-0-to-step-200.mp4\n",
      "\n"
     ]
    },
    {
     "name": "stderr",
     "output_type": "stream",
     "text": [
      "                                                             "
     ]
    },
    {
     "name": "stdout",
     "output_type": "stream",
     "text": [
      "Moviepy - Done !\n",
      "Moviepy - video ready c:\\Users\\sanja\\4b\\ECE457C\\a3\\tuned\\racetrack\\PPO_tuned\\video_eval\\tuned_ppo3-step-0-to-step-200.mp4\n",
      "🎥 Saved video for episode 3\n"
     ]
    },
    {
     "name": "stderr",
     "output_type": "stream",
     "text": [
      "\r"
     ]
    },
    {
     "name": "stdout",
     "output_type": "stream",
     "text": [
      "Moviepy - Building video c:\\Users\\sanja\\4b\\ECE457C\\a3\\tuned\\racetrack\\PPO_tuned\\video_eval\\tuned_ppo4-step-0-to-step-200.mp4.\n",
      "Moviepy - Writing video c:\\Users\\sanja\\4b\\ECE457C\\a3\\tuned\\racetrack\\PPO_tuned\\video_eval\\tuned_ppo4-step-0-to-step-200.mp4\n",
      "\n"
     ]
    },
    {
     "name": "stderr",
     "output_type": "stream",
     "text": [
      "                                                              \r"
     ]
    },
    {
     "name": "stdout",
     "output_type": "stream",
     "text": [
      "Moviepy - Done !\n",
      "Moviepy - video ready c:\\Users\\sanja\\4b\\ECE457C\\a3\\tuned\\racetrack\\PPO_tuned\\video_eval\\tuned_ppo4-step-0-to-step-200.mp4\n",
      "🎥 Saved video for episode 4\n",
      "Moviepy - Building video c:\\Users\\sanja\\4b\\ECE457C\\a3\\tuned\\racetrack\\PPO_tuned\\video_eval\\tuned_ppo5-step-0-to-step-200.mp4.\n",
      "Moviepy - Writing video c:\\Users\\sanja\\4b\\ECE457C\\a3\\tuned\\racetrack\\PPO_tuned\\video_eval\\tuned_ppo5-step-0-to-step-200.mp4\n",
      "\n"
     ]
    },
    {
     "name": "stderr",
     "output_type": "stream",
     "text": [
      "                                                             "
     ]
    },
    {
     "name": "stdout",
     "output_type": "stream",
     "text": [
      "Moviepy - Done !\n",
      "Moviepy - video ready c:\\Users\\sanja\\4b\\ECE457C\\a3\\tuned\\racetrack\\PPO_tuned\\video_eval\\tuned_ppo5-step-0-to-step-200.mp4\n",
      "🎥 Saved video for episode 5\n"
     ]
    },
    {
     "name": "stderr",
     "output_type": "stream",
     "text": [
      "\r"
     ]
    }
   ],
   "source": [
    "# import modelclass\n",
    "from stable_baselines3 import PPO as ModelClass\n",
    "\n",
    "algo_name = 'PPO'\n",
    "# model.save(f\"models/{algo_name}_trained\")\n",
    "model = ModelClass.load(f\"models/{algo_name}_trained\")\n",
    "tuned_eval_dir = f\"tuned/racetrack/{algo_name}_tuned/\"\n",
    "video_eval_dir = os.path.join(tuned_eval_dir, \"video_eval\")\n",
    "os.makedirs(video_eval_dir, exist_ok=True)\n",
    "\n",
    "# Run 5 evaluation episodes and save each video\n",
    "for episode in range(5):\n",
    "    eval_env = DummyVecEnv([make_env(render_mode=\"rgb_array\")])\n",
    "    eval_env = VecVideoRecorder(\n",
    "        eval_env,\n",
    "        video_folder=video_eval_dir,\n",
    "        record_video_trigger=lambda step: step == 0,\n",
    "        video_length=200,\n",
    "        name_prefix=f\"tuned_ppo{episode+1}\"  # ✅ Unique name per video\n",
    "    )\n",
    "\n",
    "    obs = eval_env.reset()\n",
    "    for _ in range(200):\n",
    "        action, _ = model.predict(obs, deterministic=True)\n",
    "        # print the action\n",
    "        obs, _, dones, _ = eval_env.step(action)\n",
    "        if dones[0]:\n",
    "            break\n",
    "\n",
    "    eval_env.close()\n",
    "    print(f\"🎥 Saved video for episode {episode+1}\")\n"
   ]
  }
 ],
 "metadata": {
  "kernelspec": {
   "display_name": "highway",
   "language": "python",
   "name": "python3"
  },
  "language_info": {
   "codemirror_mode": {
    "name": "ipython",
    "version": 3
   },
   "file_extension": ".py",
   "mimetype": "text/x-python",
   "name": "python",
   "nbconvert_exporter": "python",
   "pygments_lexer": "ipython3",
   "version": "3.8.20"
  }
 },
 "nbformat": 4,
 "nbformat_minor": 5
}
