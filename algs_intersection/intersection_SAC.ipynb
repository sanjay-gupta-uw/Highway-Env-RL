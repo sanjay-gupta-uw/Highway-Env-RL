{
 "cells": [
  {
   "cell_type": "code",
   "execution_count": 1,
   "id": "02ac9b88",
   "metadata": {},
   "outputs": [
    {
     "name": "stderr",
     "output_type": "stream",
     "text": [
      "c:\\Users\\sanja\\anaconda3\\envs\\highway\\lib\\site-packages\\gymnasium\\envs\\registration.py:513: DeprecationWarning: \u001b[33mWARN: The environment intersection-v0 is out of date. You should consider upgrading to version `v1`.\u001b[0m\n",
      "  logger.deprecation(\n"
     ]
    },
    {
     "data": {
      "image/png": "[encoded data removed]",
      "text/plain": [
       "<Figure size 640x480 with 1 Axes>"
      ]
     },
     "metadata": {},
     "output_type": "display_data"
    }
   ],
   "source": [
    "# Import libraries and make sure highway-env is installed properly\n",
    "import highway_env\n",
    "import gymnasium as gym\n",
    "import numpy as np\n",
    "import matplotlib.pyplot as plt\n",
    "from pprint import pprint\n",
    "# pprint([env for env in gym.envs.registry.keys() if \"intersection\" in env])\n",
    "\n",
    "# Create the environment with visual rendering\n",
    "env = gym.make(\"intersection-v0\", render_mode=\"rgb_array\")\n",
    "obs, info = env.reset()\n",
    "\n",
    "# Render and show the first frame\n",
    "frame = env.render()\n",
    "plt.imshow(frame)\n",
    "plt.axis('off')\n",
    "plt.title(\"Initial Frame\")\n",
    "plt.show()\n",
    "\n",
    "env.close()"
   ]
  },
  {
   "cell_type": "code",
   "execution_count": 2,
   "id": "c1e8a8c9",
   "metadata": {},
   "outputs": [
    {
     "name": "stdout",
     "output_type": "stream",
     "text": [
      "Environment Information:\n",
      "{'action': {'lateral': False,\n",
      "            'longitudinal': True,\n",
      "            'target_speeds': [0, 4.5, 9],\n",
      "            'type': 'DiscreteMetaAction'},\n",
      " 'arrived_reward': 1,\n",
      " 'centering_position': [0.5, 0.6],\n",
      " 'collision_reward': -5,\n",
      " 'controlled_vehicles': 1,\n",
      " 'destination': 'o1',\n",
      " 'duration': 13,\n",
      " 'high_speed_reward': 1,\n",
      " 'initial_vehicle_count': 10,\n",
      " 'manual_control': False,\n",
      " 'normalize_reward': False,\n",
      " 'observation': {'absolute': True,\n",
      "                 'features': ['presence',\n",
      "                              'x',\n",
      "                              'y',\n",
      "                              'vx',\n",
      "                              'vy',\n",
      "                              'cos_h',\n",
      "                              'sin_h'],\n",
      "                 'features_range': {'vx': [-20, 20],\n",
      "                                    'vy': [-20, 20],\n",
      "                                    'x': [-100, 100],\n",
      "                                    'y': [-100, 100]},\n",
      "                 'flatten': False,\n",
      "                 'observe_intentions': False,\n",
      "                 'type': 'Kinematics',\n",
      "                 'vehicles_count': 15},\n",
      " 'offroad_terminal': False,\n",
      " 'offscreen_rendering': False,\n",
      " 'other_vehicles_type': 'highway_env.vehicle.behavior.IDMVehicle',\n",
      " 'policy_frequency': 1,\n",
      " 'real_time_rendering': False,\n",
      " 'render_agent': True,\n",
      " 'reward_speed_range': [7.0, 9.0],\n",
      " 'scaling': 7.15,\n",
      " 'screen_height': 600,\n",
      " 'screen_width': 600,\n",
      " 'show_trajectories': False,\n",
      " 'simulation_frequency': 15,\n",
      " 'spawn_probability': 0.6}\n"
     ]
    }
   ],
   "source": [
    "from pprint import pprint\n",
    "\n",
    "# print the environment information\n",
    "print(\"Environment Information:\")\n",
    "pprint(env.unwrapped.config)"
   ]
  },
  {
   "cell_type": "code",
   "execution_count": 3,
   "id": "d78b6e3a",
   "metadata": {},
   "outputs": [
    {
     "name": "stdout",
     "output_type": "stream",
     "text": [
      "2.17.1\n",
      "True\n",
      "NVIDIA GeForce RTX 3080\n"
     ]
    }
   ],
   "source": [
    "import torch\n",
    "import tensorboard\n",
    "\n",
    "print(tensorboard.__version__)\n",
    "print(torch.cuda.is_available())   # Should be True\n",
    "print(torch.cuda.get_device_name(0))  # Should show GPU name\n"
   ]
  },
  {
   "cell_type": "code",
   "execution_count": 4,
   "id": "a0037297",
   "metadata": {},
   "outputs": [],
   "source": [
    "from stable_baselines3.common.monitor import Monitor\n",
    "\n",
    "def make_env(render_mode=None):\n",
    "    from gymnasium.wrappers import TimeLimit\n",
    "    def _init():\n",
    "        config = {\n",
    "            \"action\": {\n",
    "                \"type\": \"ContinuousAction\",\n",
    "                \"lateral\": False,         # Disable lane change\n",
    "                \"longitudinal\": True      # Enable acceleration/deceleration\n",
    "            }\n",
    "        }\n",
    "        env = gym.make(\"intersection-v0\", render_mode=render_mode, config=config)\n",
    "        env = TimeLimit(env, max_episode_steps=200)\n",
    "        env = Monitor(env)\n",
    "        return env\n",
    "    return _init"
   ]
  },
  {
   "cell_type": "code",
   "execution_count": 5,
   "id": "5c1de8fd",
   "metadata": {},
   "outputs": [
    {
     "name": "stdout",
     "output_type": "stream",
     "text": [
      "Action Space: Box(-1.0, 1.0, (1,), float32)\n"
     ]
    },
    {
     "name": "stderr",
     "output_type": "stream",
     "text": [
      "c:\\Users\\sanja\\anaconda3\\envs\\highway\\lib\\site-packages\\gymnasium\\envs\\registration.py:513: DeprecationWarning: \u001b[33mWARN: The environment intersection-v0 is out of date. You should consider upgrading to version `v1`.\u001b[0m\n",
      "  logger.deprecation(\n"
     ]
    }
   ],
   "source": [
    "from stable_baselines3.common.vec_env import DummyVecEnv\n",
    "import gymnasium as gym\n",
    "\n",
    "env = DummyVecEnv([make_env(render_mode=None)])\n",
    "# print the action space\n",
    "print(\"Action Space:\", env.action_space)"
   ]
  },
  {
   "cell_type": "code",
   "execution_count": 6,
   "id": "9b7f85c7",
   "metadata": {},
   "outputs": [
    {
     "name": "stderr",
     "output_type": "stream",
     "text": [
      "[I 2025-07-31 09:27:18,170] A new study created in memory with name: no-name-e51c82b1-3def-45b7-a5a6-cf6c18ab8ba3\n",
      "c:\\Users\\sanja\\anaconda3\\envs\\highway\\lib\\site-packages\\optuna\\distributions.py:518: UserWarning: Choices for a categorical distribution should be a tuple of None, bool, int, float and str for persistent storage but contains [64, 64] which is of type list.\n",
      "  warnings.warn(message)\n",
      "c:\\Users\\sanja\\anaconda3\\envs\\highway\\lib\\site-packages\\optuna\\distributions.py:518: UserWarning: Choices for a categorical distribution should be a tuple of None, bool, int, float and str for persistent storage but contains [128, 128] which is of type list.\n",
      "  warnings.warn(message)\n",
      "c:\\Users\\sanja\\anaconda3\\envs\\highway\\lib\\site-packages\\optuna\\distributions.py:518: UserWarning: Choices for a categorical distribution should be a tuple of None, bool, int, float and str for persistent storage but contains [256, 256] which is of type list.\n",
      "  warnings.warn(message)\n",
      "c:\\Users\\sanja\\anaconda3\\envs\\highway\\lib\\site-packages\\gymnasium\\envs\\registration.py:513: DeprecationWarning: \u001b[33mWARN: The environment intersection-v0 is out of date. You should consider upgrading to version `v1`.\u001b[0m\n",
      "  logger.deprecation(\n"
     ]
    },
    {
     "name": "stdout",
     "output_type": "stream",
     "text": [
      "Starting COARSE tuning...\n",
      "Starting training for trial 0...\n",
      "Phase: coarse, Config: {'learning_rate': 2.0513382630874486e-05, 'gamma': 0.8732431835300942, 'net_arch': [128, 128], 'buffer_size': 10000}\n"
     ]
    },
    {
     "name": "stderr",
     "output_type": "stream",
     "text": [
      "[I 2025-07-31 10:22:10,065] Trial 0 finished with value: 1.9398091999999998 and parameters: {'buffer_size': 10000, 'learning_rate': 2.0513382630874486e-05, 'gamma': 0.8732431835300942, 'net_arch': [128, 128]}. Best is trial 0 with value: 1.9398091999999998.\n"
     ]
    },
    {
     "name": "stdout",
     "output_type": "stream",
     "text": [
      "Saved new best coarse model (trial 0)\n",
      "✅ Coarse tuning updated. Best trial 0 saved.\n",
      "Starting training for trial 1...\n",
      "Phase: coarse, Config: {'learning_rate': 2.6587543983272695e-05, 'gamma': 0.877091920113858, 'net_arch': [256, 256], 'buffer_size': 20000}\n"
     ]
    },
    {
     "name": "stderr",
     "output_type": "stream",
     "text": [
      "c:\\Users\\sanja\\anaconda3\\envs\\highway\\lib\\site-packages\\optuna\\distributions.py:518: UserWarning: Choices for a categorical distribution should be a tuple of None, bool, int, float and str for persistent storage but contains [64, 64] which is of type list.\n",
      "  warnings.warn(message)\n",
      "c:\\Users\\sanja\\anaconda3\\envs\\highway\\lib\\site-packages\\optuna\\distributions.py:518: UserWarning: Choices for a categorical distribution should be a tuple of None, bool, int, float and str for persistent storage but contains [128, 128] which is of type list.\n",
      "  warnings.warn(message)\n",
      "c:\\Users\\sanja\\anaconda3\\envs\\highway\\lib\\site-packages\\optuna\\distributions.py:518: UserWarning: Choices for a categorical distribution should be a tuple of None, bool, int, float and str for persistent storage but contains [256, 256] which is of type list.\n",
      "  warnings.warn(message)\n",
      "c:\\Users\\sanja\\anaconda3\\envs\\highway\\lib\\site-packages\\gymnasium\\envs\\registration.py:513: DeprecationWarning: \u001b[33mWARN: The environment intersection-v0 is out of date. You should consider upgrading to version `v1`.\u001b[0m\n",
      "  logger.deprecation(\n",
      "[I 2025-07-31 11:17:43,451] Trial 1 finished with value: 3.6 and parameters: {'buffer_size': 20000, 'learning_rate': 2.6587543983272695e-05, 'gamma': 0.877091920113858, 'net_arch': [256, 256]}. Best is trial 1 with value: 3.6.\n"
     ]
    },
    {
     "name": "stdout",
     "output_type": "stream",
     "text": [
      "Saved new best coarse model (trial 1)\n",
      "✅ Coarse tuning updated. Best trial 1 saved.\n",
      "Starting training for trial 2...\n",
      "Phase: coarse, Config: {'learning_rate': 3.8396292998041685e-05, 'gamma': 0.90458791465076, 'net_arch': [128, 128], 'buffer_size': 20000}\n"
     ]
    },
    {
     "name": "stderr",
     "output_type": "stream",
     "text": [
      "c:\\Users\\sanja\\anaconda3\\envs\\highway\\lib\\site-packages\\optuna\\distributions.py:518: UserWarning: Choices for a categorical distribution should be a tuple of None, bool, int, float and str for persistent storage but contains [64, 64] which is of type list.\n",
      "  warnings.warn(message)\n",
      "c:\\Users\\sanja\\anaconda3\\envs\\highway\\lib\\site-packages\\optuna\\distributions.py:518: UserWarning: Choices for a categorical distribution should be a tuple of None, bool, int, float and str for persistent storage but contains [128, 128] which is of type list.\n",
      "  warnings.warn(message)\n",
      "c:\\Users\\sanja\\anaconda3\\envs\\highway\\lib\\site-packages\\optuna\\distributions.py:518: UserWarning: Choices for a categorical distribution should be a tuple of None, bool, int, float and str for persistent storage but contains [256, 256] which is of type list.\n",
      "  warnings.warn(message)\n",
      "c:\\Users\\sanja\\anaconda3\\envs\\highway\\lib\\site-packages\\gymnasium\\envs\\registration.py:513: DeprecationWarning: \u001b[33mWARN: The environment intersection-v0 is out of date. You should consider upgrading to version `v1`.\u001b[0m\n",
      "  logger.deprecation(\n",
      "[I 2025-07-31 12:11:33,355] Trial 2 finished with value: 3.1688782 and parameters: {'buffer_size': 20000, 'learning_rate': 3.8396292998041685e-05, 'gamma': 0.90458791465076, 'net_arch': [128, 128]}. Best is trial 1 with value: 3.6.\n",
      "c:\\Users\\sanja\\anaconda3\\envs\\highway\\lib\\site-packages\\optuna\\distributions.py:518: UserWarning: Choices for a categorical distribution should be a tuple of None, bool, int, float and str for persistent storage but contains [64, 64] which is of type list.\n",
      "  warnings.warn(message)\n",
      "c:\\Users\\sanja\\anaconda3\\envs\\highway\\lib\\site-packages\\optuna\\distributions.py:518: UserWarning: Choices for a categorical distribution should be a tuple of None, bool, int, float and str for persistent storage but contains [128, 128] which is of type list.\n",
      "  warnings.warn(message)\n",
      "c:\\Users\\sanja\\anaconda3\\envs\\highway\\lib\\site-packages\\optuna\\distributions.py:518: UserWarning: Choices for a categorical distribution should be a tuple of None, bool, int, float and str for persistent storage but contains [256, 256] which is of type list.\n",
      "  warnings.warn(message)\n",
      "c:\\Users\\sanja\\anaconda3\\envs\\highway\\lib\\site-packages\\gymnasium\\envs\\registration.py:513: DeprecationWarning: \u001b[33mWARN: The environment intersection-v0 is out of date. You should consider upgrading to version `v1`.\u001b[0m\n",
      "  logger.deprecation(\n"
     ]
    },
    {
     "name": "stdout",
     "output_type": "stream",
     "text": [
      "Starting training for trial 3...\n",
      "Phase: coarse, Config: {'learning_rate': 2.1930485556643678e-05, 'gamma': 0.8596926873548066, 'net_arch': [128, 128], 'buffer_size': 30000}\n"
     ]
    },
    {
     "name": "stderr",
     "output_type": "stream",
     "text": [
      "[I 2025-07-31 12:14:06,892] Trial 3 pruned. \n",
      "c:\\Users\\sanja\\anaconda3\\envs\\highway\\lib\\site-packages\\optuna\\distributions.py:518: UserWarning: Choices for a categorical distribution should be a tuple of None, bool, int, float and str for persistent storage but contains [64, 64] which is of type list.\n",
      "  warnings.warn(message)\n",
      "c:\\Users\\sanja\\anaconda3\\envs\\highway\\lib\\site-packages\\optuna\\distributions.py:518: UserWarning: Choices for a categorical distribution should be a tuple of None, bool, int, float and str for persistent storage but contains [128, 128] which is of type list.\n",
      "  warnings.warn(message)\n",
      "c:\\Users\\sanja\\anaconda3\\envs\\highway\\lib\\site-packages\\optuna\\distributions.py:518: UserWarning: Choices for a categorical distribution should be a tuple of None, bool, int, float and str for persistent storage but contains [256, 256] which is of type list.\n",
      "  warnings.warn(message)\n",
      "c:\\Users\\sanja\\anaconda3\\envs\\highway\\lib\\site-packages\\gymnasium\\envs\\registration.py:513: DeprecationWarning: \u001b[33mWARN: The environment intersection-v0 is out of date. You should consider upgrading to version `v1`.\u001b[0m\n",
      "  logger.deprecation(\n"
     ]
    },
    {
     "name": "stdout",
     "output_type": "stream",
     "text": [
      "Starting training for trial 4...\n",
      "Phase: coarse, Config: {'learning_rate': 1.7541893487450798e-05, 'gamma': 0.9237813596065793, 'net_arch': [128, 128], 'buffer_size': 20000}\n"
     ]
    },
    {
     "name": "stderr",
     "output_type": "stream",
     "text": [
      "[I 2025-07-31 13:08:48,329] Trial 4 finished with value: 5.4 and parameters: {'buffer_size': 20000, 'learning_rate': 1.7541893487450798e-05, 'gamma': 0.9237813596065793, 'net_arch': [128, 128]}. Best is trial 4 with value: 5.4.\n"
     ]
    },
    {
     "name": "stdout",
     "output_type": "stream",
     "text": [
      "Saved new best coarse model (trial 4)\n",
      "✅ Coarse tuning updated. Best trial 4 saved.\n",
      "Starting training for trial 5...\n",
      "Phase: coarse, Config: {'learning_rate': 2.3426581058204037e-05, 'gamma': 0.9944681095369192, 'net_arch': [128, 128], 'buffer_size': 5000}\n"
     ]
    },
    {
     "name": "stderr",
     "output_type": "stream",
     "text": [
      "c:\\Users\\sanja\\anaconda3\\envs\\highway\\lib\\site-packages\\optuna\\distributions.py:518: UserWarning: Choices for a categorical distribution should be a tuple of None, bool, int, float and str for persistent storage but contains [64, 64] which is of type list.\n",
      "  warnings.warn(message)\n",
      "c:\\Users\\sanja\\anaconda3\\envs\\highway\\lib\\site-packages\\optuna\\distributions.py:518: UserWarning: Choices for a categorical distribution should be a tuple of None, bool, int, float and str for persistent storage but contains [128, 128] which is of type list.\n",
      "  warnings.warn(message)\n",
      "c:\\Users\\sanja\\anaconda3\\envs\\highway\\lib\\site-packages\\optuna\\distributions.py:518: UserWarning: Choices for a categorical distribution should be a tuple of None, bool, int, float and str for persistent storage but contains [256, 256] which is of type list.\n",
      "  warnings.warn(message)\n",
      "c:\\Users\\sanja\\anaconda3\\envs\\highway\\lib\\site-packages\\gymnasium\\envs\\registration.py:513: DeprecationWarning: \u001b[33mWARN: The environment intersection-v0 is out of date. You should consider upgrading to version `v1`.\u001b[0m\n",
      "  logger.deprecation(\n",
      "[I 2025-07-31 14:03:21,488] Trial 5 finished with value: 3.2725324000000002 and parameters: {'buffer_size': 5000, 'learning_rate': 2.3426581058204037e-05, 'gamma': 0.9944681095369192, 'net_arch': [128, 128]}. Best is trial 4 with value: 5.4.\n",
      "c:\\Users\\sanja\\anaconda3\\envs\\highway\\lib\\site-packages\\optuna\\distributions.py:518: UserWarning: Choices for a categorical distribution should be a tuple of None, bool, int, float and str for persistent storage but contains [64, 64] which is of type list.\n",
      "  warnings.warn(message)\n",
      "c:\\Users\\sanja\\anaconda3\\envs\\highway\\lib\\site-packages\\optuna\\distributions.py:518: UserWarning: Choices for a categorical distribution should be a tuple of None, bool, int, float and str for persistent storage but contains [128, 128] which is of type list.\n",
      "  warnings.warn(message)\n",
      "c:\\Users\\sanja\\anaconda3\\envs\\highway\\lib\\site-packages\\optuna\\distributions.py:518: UserWarning: Choices for a categorical distribution should be a tuple of None, bool, int, float and str for persistent storage but contains [256, 256] which is of type list.\n",
      "  warnings.warn(message)\n",
      "c:\\Users\\sanja\\anaconda3\\envs\\highway\\lib\\site-packages\\gymnasium\\envs\\registration.py:513: DeprecationWarning: \u001b[33mWARN: The environment intersection-v0 is out of date. You should consider upgrading to version `v1`.\u001b[0m\n",
      "  logger.deprecation(\n"
     ]
    },
    {
     "name": "stdout",
     "output_type": "stream",
     "text": [
      "Starting training for trial 6...\n",
      "Phase: coarse, Config: {'learning_rate': 1.2315571723666024e-05, 'gamma': 0.8984742192837264, 'net_arch': [256, 256], 'buffer_size': 10000}\n"
     ]
    },
    {
     "name": "stderr",
     "output_type": "stream",
     "text": [
      "[I 2025-07-31 14:06:00,016] Trial 6 pruned. \n",
      "c:\\Users\\sanja\\anaconda3\\envs\\highway\\lib\\site-packages\\optuna\\distributions.py:518: UserWarning: Choices for a categorical distribution should be a tuple of None, bool, int, float and str for persistent storage but contains [64, 64] which is of type list.\n",
      "  warnings.warn(message)\n",
      "c:\\Users\\sanja\\anaconda3\\envs\\highway\\lib\\site-packages\\optuna\\distributions.py:518: UserWarning: Choices for a categorical distribution should be a tuple of None, bool, int, float and str for persistent storage but contains [128, 128] which is of type list.\n",
      "  warnings.warn(message)\n",
      "c:\\Users\\sanja\\anaconda3\\envs\\highway\\lib\\site-packages\\optuna\\distributions.py:518: UserWarning: Choices for a categorical distribution should be a tuple of None, bool, int, float and str for persistent storage but contains [256, 256] which is of type list.\n",
      "  warnings.warn(message)\n",
      "c:\\Users\\sanja\\anaconda3\\envs\\highway\\lib\\site-packages\\gymnasium\\envs\\registration.py:513: DeprecationWarning: \u001b[33mWARN: The environment intersection-v0 is out of date. You should consider upgrading to version `v1`.\u001b[0m\n",
      "  logger.deprecation(\n"
     ]
    },
    {
     "name": "stdout",
     "output_type": "stream",
     "text": [
      "Starting training for trial 7...\n",
      "Phase: coarse, Config: {'learning_rate': 0.0004021554526690286, 'gamma': 0.8611080459082858, 'net_arch': [64, 64], 'buffer_size': 20000}\n"
     ]
    },
    {
     "name": "stderr",
     "output_type": "stream",
     "text": [
      "[I 2025-07-31 14:58:17,070] Trial 7 finished with value: 4.4 and parameters: {'buffer_size': 20000, 'learning_rate': 0.0004021554526690286, 'gamma': 0.8611080459082858, 'net_arch': [64, 64]}. Best is trial 4 with value: 5.4.\n",
      "[I 2025-07-31 14:58:17,087] A new study created in memory with name: no-name-1079525c-c49e-4ab8-944f-11a28e22559f\n",
      "[W 2025-07-31 14:58:17,088] Trial 0 failed with parameters: {'learning_starts': 1454, 'batch_size': 512, 'tau': 0.011346596901866915, 'ent_coef': 'auto'} because of the following error: UnboundLocalError(\"local variable 'config' referenced before assignment\").\n",
      "Traceback (most recent call last):\n",
      "  File \"c:\\Users\\sanja\\anaconda3\\envs\\highway\\lib\\site-packages\\optuna\\study\\_optimize.py\", line 201, in _run_trial\n",
      "    value_or_values = func(trial)\n",
      "  File \"C:\\Users\\sanja\\AppData\\Local\\Temp\\ipykernel_30232\\2035702726.py\", line 136, in <lambda>\n",
      "    study.optimize(lambda trial: objective(trial, phase=\"fine\", coarse_params=coarse_params), n_trials=8)\n",
      "  File \"C:\\Users\\sanja\\AppData\\Local\\Temp\\ipykernel_30232\\2035702726.py\", line 67, in objective\n",
      "    \"learning_starts\": config.get(\"learning_starts\", learning_starts),\n",
      "UnboundLocalError: local variable 'config' referenced before assignment\n",
      "[W 2025-07-31 14:58:17,090] Trial 0 failed with value None.\n"
     ]
    },
    {
     "name": "stdout",
     "output_type": "stream",
     "text": [
      "Starting FINE tuning with coarse-fixed params...\n"
     ]
    },
    {
     "ename": "UnboundLocalError",
     "evalue": "local variable 'config' referenced before assignment",
     "output_type": "error",
     "traceback": [
      "\u001b[1;31m---------------------------------------------------------------------------\u001b[0m",
      "\u001b[1;31mUnboundLocalError\u001b[0m                         Traceback (most recent call last)",
      "Cell \u001b[1;32mIn[6], line 147\u001b[0m\n\u001b[0;32m    144\u001b[0m     run_coarse_phase()\n\u001b[0;32m    146\u001b[0m \u001b[38;5;28;01mif\u001b[39;00m run_fine:\n\u001b[1;32m--> 147\u001b[0m     \u001b[43mrun_fine_phase\u001b[49m\u001b[43m(\u001b[49m\u001b[43m)\u001b[49m\n",
      "Cell \u001b[1;32mIn[6], line 136\u001b[0m, in \u001b[0;36mrun_fine_phase\u001b[1;34m()\u001b[0m\n\u001b[0;32m    130\u001b[0m \u001b[38;5;28mprint\u001b[39m(\u001b[38;5;124m\"\u001b[39m\u001b[38;5;124mStarting FINE tuning with coarse-fixed params...\u001b[39m\u001b[38;5;124m\"\u001b[39m)\n\u001b[0;32m    131\u001b[0m study \u001b[38;5;241m=\u001b[39m optuna\u001b[38;5;241m.\u001b[39mcreate_study(\n\u001b[0;32m    132\u001b[0m     direction\u001b[38;5;241m=\u001b[39m\u001b[38;5;124m\"\u001b[39m\u001b[38;5;124mmaximize\u001b[39m\u001b[38;5;124m\"\u001b[39m,\n\u001b[0;32m    133\u001b[0m     sampler\u001b[38;5;241m=\u001b[39moptuna\u001b[38;5;241m.\u001b[39msamplers\u001b[38;5;241m.\u001b[39mTPESampler(seed\u001b[38;5;241m=\u001b[39m\u001b[38;5;241m123\u001b[39m),\n\u001b[0;32m    134\u001b[0m     pruner\u001b[38;5;241m=\u001b[39mMedianPruner(n_startup_trials\u001b[38;5;241m=\u001b[39m\u001b[38;5;241m3\u001b[39m, n_warmup_steps\u001b[38;5;241m=\u001b[39m\u001b[38;5;241m1\u001b[39m)\n\u001b[0;32m    135\u001b[0m )\n\u001b[1;32m--> 136\u001b[0m \u001b[43mstudy\u001b[49m\u001b[38;5;241;43m.\u001b[39;49m\u001b[43moptimize\u001b[49m\u001b[43m(\u001b[49m\u001b[38;5;28;43;01mlambda\u001b[39;49;00m\u001b[43m \u001b[49m\u001b[43mtrial\u001b[49m\u001b[43m:\u001b[49m\u001b[43m \u001b[49m\u001b[43mobjective\u001b[49m\u001b[43m(\u001b[49m\u001b[43mtrial\u001b[49m\u001b[43m,\u001b[49m\u001b[43m \u001b[49m\u001b[43mphase\u001b[49m\u001b[38;5;241;43m=\u001b[39;49m\u001b[38;5;124;43m\"\u001b[39;49m\u001b[38;5;124;43mfine\u001b[39;49m\u001b[38;5;124;43m\"\u001b[39;49m\u001b[43m,\u001b[49m\u001b[43m \u001b[49m\u001b[43mcoarse_params\u001b[49m\u001b[38;5;241;43m=\u001b[39;49m\u001b[43mcoarse_params\u001b[49m\u001b[43m)\u001b[49m\u001b[43m,\u001b[49m\u001b[43m \u001b[49m\u001b[43mn_trials\u001b[49m\u001b[38;5;241;43m=\u001b[39;49m\u001b[38;5;241;43m8\u001b[39;49m\u001b[43m)\u001b[49m\n\u001b[0;32m    137\u001b[0m \u001b[38;5;28mprint\u001b[39m(\u001b[38;5;124m\"\u001b[39m\u001b[38;5;124m✅ Fine tuning complete.\u001b[39m\u001b[38;5;124m\"\u001b[39m)\n",
      "File \u001b[1;32mc:\\Users\\sanja\\anaconda3\\envs\\highway\\lib\\site-packages\\optuna\\study\\study.py:489\u001b[0m, in \u001b[0;36mStudy.optimize\u001b[1;34m(self, func, n_trials, timeout, n_jobs, catch, callbacks, gc_after_trial, show_progress_bar)\u001b[0m\n\u001b[0;32m    387\u001b[0m \u001b[38;5;28;01mdef\u001b[39;00m \u001b[38;5;21moptimize\u001b[39m(\n\u001b[0;32m    388\u001b[0m     \u001b[38;5;28mself\u001b[39m,\n\u001b[0;32m    389\u001b[0m     func: ObjectiveFuncType,\n\u001b[1;32m   (...)\u001b[0m\n\u001b[0;32m    396\u001b[0m     show_progress_bar: \u001b[38;5;28mbool\u001b[39m \u001b[38;5;241m=\u001b[39m \u001b[38;5;28;01mFalse\u001b[39;00m,\n\u001b[0;32m    397\u001b[0m ) \u001b[38;5;241m-\u001b[39m\u001b[38;5;241m>\u001b[39m \u001b[38;5;28;01mNone\u001b[39;00m:\n\u001b[0;32m    398\u001b[0m \u001b[38;5;250m    \u001b[39m\u001b[38;5;124;03m\"\"\"Optimize an objective function.\u001b[39;00m\n\u001b[0;32m    399\u001b[0m \n\u001b[0;32m    400\u001b[0m \u001b[38;5;124;03m    Optimization is done by choosing a suitable set of hyperparameter values from a given\u001b[39;00m\n\u001b[1;32m   (...)\u001b[0m\n\u001b[0;32m    487\u001b[0m \u001b[38;5;124;03m            If nested invocation of this method occurs.\u001b[39;00m\n\u001b[0;32m    488\u001b[0m \u001b[38;5;124;03m    \"\"\"\u001b[39;00m\n\u001b[1;32m--> 489\u001b[0m     \u001b[43m_optimize\u001b[49m\u001b[43m(\u001b[49m\n\u001b[0;32m    490\u001b[0m \u001b[43m        \u001b[49m\u001b[43mstudy\u001b[49m\u001b[38;5;241;43m=\u001b[39;49m\u001b[38;5;28;43mself\u001b[39;49m\u001b[43m,\u001b[49m\n\u001b[0;32m    491\u001b[0m \u001b[43m        \u001b[49m\u001b[43mfunc\u001b[49m\u001b[38;5;241;43m=\u001b[39;49m\u001b[43mfunc\u001b[49m\u001b[43m,\u001b[49m\n\u001b[0;32m    492\u001b[0m \u001b[43m        \u001b[49m\u001b[43mn_trials\u001b[49m\u001b[38;5;241;43m=\u001b[39;49m\u001b[43mn_trials\u001b[49m\u001b[43m,\u001b[49m\n\u001b[0;32m    493\u001b[0m \u001b[43m        \u001b[49m\u001b[43mtimeout\u001b[49m\u001b[38;5;241;43m=\u001b[39;49m\u001b[43mtimeout\u001b[49m\u001b[43m,\u001b[49m\n\u001b[0;32m    494\u001b[0m \u001b[43m        \u001b[49m\u001b[43mn_jobs\u001b[49m\u001b[38;5;241;43m=\u001b[39;49m\u001b[43mn_jobs\u001b[49m\u001b[43m,\u001b[49m\n\u001b[0;32m    495\u001b[0m \u001b[43m        \u001b[49m\u001b[43mcatch\u001b[49m\u001b[38;5;241;43m=\u001b[39;49m\u001b[38;5;28;43mtuple\u001b[39;49m\u001b[43m(\u001b[49m\u001b[43mcatch\u001b[49m\u001b[43m)\u001b[49m\u001b[43m \u001b[49m\u001b[38;5;28;43;01mif\u001b[39;49;00m\u001b[43m \u001b[49m\u001b[38;5;28;43misinstance\u001b[39;49m\u001b[43m(\u001b[49m\u001b[43mcatch\u001b[49m\u001b[43m,\u001b[49m\u001b[43m \u001b[49m\u001b[43mIterable\u001b[49m\u001b[43m)\u001b[49m\u001b[43m \u001b[49m\u001b[38;5;28;43;01melse\u001b[39;49;00m\u001b[43m \u001b[49m\u001b[43m(\u001b[49m\u001b[43mcatch\u001b[49m\u001b[43m,\u001b[49m\u001b[43m)\u001b[49m\u001b[43m,\u001b[49m\n\u001b[0;32m    496\u001b[0m \u001b[43m        \u001b[49m\u001b[43mcallbacks\u001b[49m\u001b[38;5;241;43m=\u001b[39;49m\u001b[43mcallbacks\u001b[49m\u001b[43m,\u001b[49m\n\u001b[0;32m    497\u001b[0m \u001b[43m        \u001b[49m\u001b[43mgc_after_trial\u001b[49m\u001b[38;5;241;43m=\u001b[39;49m\u001b[43mgc_after_trial\u001b[49m\u001b[43m,\u001b[49m\n\u001b[0;32m    498\u001b[0m \u001b[43m        \u001b[49m\u001b[43mshow_progress_bar\u001b[49m\u001b[38;5;241;43m=\u001b[39;49m\u001b[43mshow_progress_bar\u001b[49m\u001b[43m,\u001b[49m\n\u001b[0;32m    499\u001b[0m \u001b[43m    \u001b[49m\u001b[43m)\u001b[49m\n",
      "File \u001b[1;32mc:\\Users\\sanja\\anaconda3\\envs\\highway\\lib\\site-packages\\optuna\\study\\_optimize.py:64\u001b[0m, in \u001b[0;36m_optimize\u001b[1;34m(study, func, n_trials, timeout, n_jobs, catch, callbacks, gc_after_trial, show_progress_bar)\u001b[0m\n\u001b[0;32m     62\u001b[0m \u001b[38;5;28;01mtry\u001b[39;00m:\n\u001b[0;32m     63\u001b[0m     \u001b[38;5;28;01mif\u001b[39;00m n_jobs \u001b[38;5;241m==\u001b[39m \u001b[38;5;241m1\u001b[39m:\n\u001b[1;32m---> 64\u001b[0m         \u001b[43m_optimize_sequential\u001b[49m\u001b[43m(\u001b[49m\n\u001b[0;32m     65\u001b[0m \u001b[43m            \u001b[49m\u001b[43mstudy\u001b[49m\u001b[43m,\u001b[49m\n\u001b[0;32m     66\u001b[0m \u001b[43m            \u001b[49m\u001b[43mfunc\u001b[49m\u001b[43m,\u001b[49m\n\u001b[0;32m     67\u001b[0m \u001b[43m            \u001b[49m\u001b[43mn_trials\u001b[49m\u001b[43m,\u001b[49m\n\u001b[0;32m     68\u001b[0m \u001b[43m            \u001b[49m\u001b[43mtimeout\u001b[49m\u001b[43m,\u001b[49m\n\u001b[0;32m     69\u001b[0m \u001b[43m            \u001b[49m\u001b[43mcatch\u001b[49m\u001b[43m,\u001b[49m\n\u001b[0;32m     70\u001b[0m \u001b[43m            \u001b[49m\u001b[43mcallbacks\u001b[49m\u001b[43m,\u001b[49m\n\u001b[0;32m     71\u001b[0m \u001b[43m            \u001b[49m\u001b[43mgc_after_trial\u001b[49m\u001b[43m,\u001b[49m\n\u001b[0;32m     72\u001b[0m \u001b[43m            \u001b[49m\u001b[43mreseed_sampler_rng\u001b[49m\u001b[38;5;241;43m=\u001b[39;49m\u001b[38;5;28;43;01mFalse\u001b[39;49;00m\u001b[43m,\u001b[49m\n\u001b[0;32m     73\u001b[0m \u001b[43m            \u001b[49m\u001b[43mtime_start\u001b[49m\u001b[38;5;241;43m=\u001b[39;49m\u001b[38;5;28;43;01mNone\u001b[39;49;00m\u001b[43m,\u001b[49m\n\u001b[0;32m     74\u001b[0m \u001b[43m            \u001b[49m\u001b[43mprogress_bar\u001b[49m\u001b[38;5;241;43m=\u001b[39;49m\u001b[43mprogress_bar\u001b[49m\u001b[43m,\u001b[49m\n\u001b[0;32m     75\u001b[0m \u001b[43m        \u001b[49m\u001b[43m)\u001b[49m\n\u001b[0;32m     76\u001b[0m     \u001b[38;5;28;01melse\u001b[39;00m:\n\u001b[0;32m     77\u001b[0m         \u001b[38;5;28;01mif\u001b[39;00m n_jobs \u001b[38;5;241m==\u001b[39m \u001b[38;5;241m-\u001b[39m\u001b[38;5;241m1\u001b[39m:\n",
      "File \u001b[1;32mc:\\Users\\sanja\\anaconda3\\envs\\highway\\lib\\site-packages\\optuna\\study\\_optimize.py:161\u001b[0m, in \u001b[0;36m_optimize_sequential\u001b[1;34m(study, func, n_trials, timeout, catch, callbacks, gc_after_trial, reseed_sampler_rng, time_start, progress_bar)\u001b[0m\n\u001b[0;32m    158\u001b[0m         \u001b[38;5;28;01mbreak\u001b[39;00m\n\u001b[0;32m    160\u001b[0m \u001b[38;5;28;01mtry\u001b[39;00m:\n\u001b[1;32m--> 161\u001b[0m     frozen_trial \u001b[38;5;241m=\u001b[39m \u001b[43m_run_trial\u001b[49m\u001b[43m(\u001b[49m\u001b[43mstudy\u001b[49m\u001b[43m,\u001b[49m\u001b[43m \u001b[49m\u001b[43mfunc\u001b[49m\u001b[43m,\u001b[49m\u001b[43m \u001b[49m\u001b[43mcatch\u001b[49m\u001b[43m)\u001b[49m\n\u001b[0;32m    162\u001b[0m \u001b[38;5;28;01mfinally\u001b[39;00m:\n\u001b[0;32m    163\u001b[0m     \u001b[38;5;66;03m# The following line mitigates memory problems that can be occurred in some\u001b[39;00m\n\u001b[0;32m    164\u001b[0m     \u001b[38;5;66;03m# environments (e.g., services that use computing containers such as GitHub Actions).\u001b[39;00m\n\u001b[0;32m    165\u001b[0m     \u001b[38;5;66;03m# Please refer to the following PR for further details:\u001b[39;00m\n\u001b[0;32m    166\u001b[0m     \u001b[38;5;66;03m# https://github.com/optuna/optuna/pull/325.\u001b[39;00m\n\u001b[0;32m    167\u001b[0m     \u001b[38;5;28;01mif\u001b[39;00m gc_after_trial:\n",
      "File \u001b[1;32mc:\\Users\\sanja\\anaconda3\\envs\\highway\\lib\\site-packages\\optuna\\study\\_optimize.py:253\u001b[0m, in \u001b[0;36m_run_trial\u001b[1;34m(study, func, catch)\u001b[0m\n\u001b[0;32m    246\u001b[0m         \u001b[38;5;28;01massert\u001b[39;00m \u001b[38;5;28;01mFalse\u001b[39;00m, \u001b[38;5;124m\"\u001b[39m\u001b[38;5;124mShould not reach.\u001b[39m\u001b[38;5;124m\"\u001b[39m\n\u001b[0;32m    248\u001b[0m \u001b[38;5;28;01mif\u001b[39;00m (\n\u001b[0;32m    249\u001b[0m     frozen_trial\u001b[38;5;241m.\u001b[39mstate \u001b[38;5;241m==\u001b[39m TrialState\u001b[38;5;241m.\u001b[39mFAIL\n\u001b[0;32m    250\u001b[0m     \u001b[38;5;129;01mand\u001b[39;00m func_err \u001b[38;5;129;01mis\u001b[39;00m \u001b[38;5;129;01mnot\u001b[39;00m \u001b[38;5;28;01mNone\u001b[39;00m\n\u001b[0;32m    251\u001b[0m     \u001b[38;5;129;01mand\u001b[39;00m \u001b[38;5;129;01mnot\u001b[39;00m \u001b[38;5;28misinstance\u001b[39m(func_err, catch)\n\u001b[0;32m    252\u001b[0m ):\n\u001b[1;32m--> 253\u001b[0m     \u001b[38;5;28;01mraise\u001b[39;00m func_err\n\u001b[0;32m    254\u001b[0m \u001b[38;5;28;01mreturn\u001b[39;00m frozen_trial\n",
      "File \u001b[1;32mc:\\Users\\sanja\\anaconda3\\envs\\highway\\lib\\site-packages\\optuna\\study\\_optimize.py:201\u001b[0m, in \u001b[0;36m_run_trial\u001b[1;34m(study, func, catch)\u001b[0m\n\u001b[0;32m    199\u001b[0m \u001b[38;5;28;01mwith\u001b[39;00m get_heartbeat_thread(trial\u001b[38;5;241m.\u001b[39m_trial_id, study\u001b[38;5;241m.\u001b[39m_storage):\n\u001b[0;32m    200\u001b[0m     \u001b[38;5;28;01mtry\u001b[39;00m:\n\u001b[1;32m--> 201\u001b[0m         value_or_values \u001b[38;5;241m=\u001b[39m \u001b[43mfunc\u001b[49m\u001b[43m(\u001b[49m\u001b[43mtrial\u001b[49m\u001b[43m)\u001b[49m\n\u001b[0;32m    202\u001b[0m     \u001b[38;5;28;01mexcept\u001b[39;00m exceptions\u001b[38;5;241m.\u001b[39mTrialPruned \u001b[38;5;28;01mas\u001b[39;00m e:\n\u001b[0;32m    203\u001b[0m         \u001b[38;5;66;03m# TODO(mamu): Handle multi-objective cases.\u001b[39;00m\n\u001b[0;32m    204\u001b[0m         state \u001b[38;5;241m=\u001b[39m TrialState\u001b[38;5;241m.\u001b[39mPRUNED\n",
      "Cell \u001b[1;32mIn[6], line 136\u001b[0m, in \u001b[0;36mrun_fine_phase.<locals>.<lambda>\u001b[1;34m(trial)\u001b[0m\n\u001b[0;32m    130\u001b[0m \u001b[38;5;28mprint\u001b[39m(\u001b[38;5;124m\"\u001b[39m\u001b[38;5;124mStarting FINE tuning with coarse-fixed params...\u001b[39m\u001b[38;5;124m\"\u001b[39m)\n\u001b[0;32m    131\u001b[0m study \u001b[38;5;241m=\u001b[39m optuna\u001b[38;5;241m.\u001b[39mcreate_study(\n\u001b[0;32m    132\u001b[0m     direction\u001b[38;5;241m=\u001b[39m\u001b[38;5;124m\"\u001b[39m\u001b[38;5;124mmaximize\u001b[39m\u001b[38;5;124m\"\u001b[39m,\n\u001b[0;32m    133\u001b[0m     sampler\u001b[38;5;241m=\u001b[39moptuna\u001b[38;5;241m.\u001b[39msamplers\u001b[38;5;241m.\u001b[39mTPESampler(seed\u001b[38;5;241m=\u001b[39m\u001b[38;5;241m123\u001b[39m),\n\u001b[0;32m    134\u001b[0m     pruner\u001b[38;5;241m=\u001b[39mMedianPruner(n_startup_trials\u001b[38;5;241m=\u001b[39m\u001b[38;5;241m3\u001b[39m, n_warmup_steps\u001b[38;5;241m=\u001b[39m\u001b[38;5;241m1\u001b[39m)\n\u001b[0;32m    135\u001b[0m )\n\u001b[1;32m--> 136\u001b[0m study\u001b[38;5;241m.\u001b[39moptimize(\u001b[38;5;28;01mlambda\u001b[39;00m trial: \u001b[43mobjective\u001b[49m\u001b[43m(\u001b[49m\u001b[43mtrial\u001b[49m\u001b[43m,\u001b[49m\u001b[43m \u001b[49m\u001b[43mphase\u001b[49m\u001b[38;5;241;43m=\u001b[39;49m\u001b[38;5;124;43m\"\u001b[39;49m\u001b[38;5;124;43mfine\u001b[39;49m\u001b[38;5;124;43m\"\u001b[39;49m\u001b[43m,\u001b[49m\u001b[43m \u001b[49m\u001b[43mcoarse_params\u001b[49m\u001b[38;5;241;43m=\u001b[39;49m\u001b[43mcoarse_params\u001b[49m\u001b[43m)\u001b[49m, n_trials\u001b[38;5;241m=\u001b[39m\u001b[38;5;241m8\u001b[39m)\n\u001b[0;32m    137\u001b[0m \u001b[38;5;28mprint\u001b[39m(\u001b[38;5;124m\"\u001b[39m\u001b[38;5;124m✅ Fine tuning complete.\u001b[39m\u001b[38;5;124m\"\u001b[39m)\n",
      "Cell \u001b[1;32mIn[6], line 67\u001b[0m, in \u001b[0;36mobjective\u001b[1;34m(trial, phase, coarse_params)\u001b[0m\n\u001b[0;32m     62\u001b[0m     tau \u001b[38;5;241m=\u001b[39m trial\u001b[38;5;241m.\u001b[39msuggest_float(\u001b[38;5;124m\"\u001b[39m\u001b[38;5;124mtau\u001b[39m\u001b[38;5;124m\"\u001b[39m, \u001b[38;5;241m0.005\u001b[39m, \u001b[38;5;241m0.02\u001b[39m)\n\u001b[0;32m     63\u001b[0m     ent_coef \u001b[38;5;241m=\u001b[39m trial\u001b[38;5;241m.\u001b[39msuggest_categorical(\u001b[38;5;124m\"\u001b[39m\u001b[38;5;124ment_coef\u001b[39m\u001b[38;5;124m\"\u001b[39m, [\u001b[38;5;124m\"\u001b[39m\u001b[38;5;124mauto\u001b[39m\u001b[38;5;124m\"\u001b[39m, \u001b[38;5;124m\"\u001b[39m\u001b[38;5;124mauto_0.1\u001b[39m\u001b[38;5;124m\"\u001b[39m, \u001b[38;5;241m1e-3\u001b[39m, \u001b[38;5;241m1e-2\u001b[39m])\n\u001b[0;32m     65\u001b[0m     config \u001b[38;5;241m=\u001b[39m {\n\u001b[0;32m     66\u001b[0m         \u001b[38;5;241m*\u001b[39m\u001b[38;5;241m*\u001b[39mcoarse_params,\n\u001b[1;32m---> 67\u001b[0m         \u001b[38;5;124m\"\u001b[39m\u001b[38;5;124mlearning_starts\u001b[39m\u001b[38;5;124m\"\u001b[39m: \u001b[43mconfig\u001b[49m\u001b[38;5;241m.\u001b[39mget(\u001b[38;5;124m\"\u001b[39m\u001b[38;5;124mlearning_starts\u001b[39m\u001b[38;5;124m\"\u001b[39m, learning_starts),\n\u001b[0;32m     68\u001b[0m         \u001b[38;5;124m\"\u001b[39m\u001b[38;5;124mbatch_size\u001b[39m\u001b[38;5;124m\"\u001b[39m: batch_size,\n\u001b[0;32m     69\u001b[0m         \u001b[38;5;124m\"\u001b[39m\u001b[38;5;124mtau\u001b[39m\u001b[38;5;124m\"\u001b[39m: tau,\n\u001b[0;32m     70\u001b[0m         \u001b[38;5;124m\"\u001b[39m\u001b[38;5;124ment_coef\u001b[39m\u001b[38;5;124m\"\u001b[39m: ent_coef,\n\u001b[0;32m     71\u001b[0m     }\n\u001b[0;32m     73\u001b[0m \u001b[38;5;66;03m# Create env and model\u001b[39;00m\n\u001b[0;32m     74\u001b[0m env \u001b[38;5;241m=\u001b[39m make_vec_env(make_env(), n_envs\u001b[38;5;241m=\u001b[39m\u001b[38;5;241m1\u001b[39m)\n",
      "\u001b[1;31mUnboundLocalError\u001b[0m: local variable 'config' referenced before assignment"
     ]
    }
   ],
   "source": [
    "import os\n",
    "import json\n",
    "import optuna\n",
    "import torch\n",
    "import gymnasium as gym\n",
    "from stable_baselines3 import SAC\n",
    "from stable_baselines3.common.monitor import Monitor\n",
    "from stable_baselines3.common.env_util import make_vec_env\n",
    "from stable_baselines3.common.evaluation import evaluate_policy\n",
    "from stable_baselines3.common.callbacks import BaseCallback\n",
    "from optuna.pruners import MedianPruner\n",
    "\n",
    "# === Configuration ===\n",
    "SAVE_DIR = \"../trained_models/intersection/SAC/\"\n",
    "os.makedirs(SAVE_DIR, exist_ok=True)\n",
    "\n",
    "COARSE_PARAMS_PATH = os.path.join(SAVE_DIR, \"SAC_best_coarse_params.json\")\n",
    "\n",
    "# Track best rewards per phase\n",
    "best_rewards = {\"coarse\": -float(\"inf\"), \"fine\": -float(\"inf\")}\n",
    "\n",
    "# === Optuna Callback for pruning ===\n",
    "class OptunaCallback(BaseCallback):\n",
    "    def __init__(self, trial, eval_freq=2000, n_eval_episodes=3, verbose=0):\n",
    "        super().__init__(verbose)\n",
    "        self.trial = trial\n",
    "        self.eval_freq = eval_freq\n",
    "        self.n_eval_episodes = n_eval_episodes\n",
    "\n",
    "    def _on_step(self):\n",
    "        if self.n_calls % self.eval_freq == 0:\n",
    "            reward, _ = evaluate_policy(self.model, self.training_env, n_eval_episodes=self.n_eval_episodes, deterministic=True)\n",
    "            self.trial.report(reward, self.n_calls)\n",
    "            if self.trial.should_prune():\n",
    "                raise optuna.exceptions.TrialPruned()\n",
    "        return True\n",
    "\n",
    "# === Objective Function ===\n",
    "def objective(trial, phase, coarse_params=None):\n",
    "    global best_rewards\n",
    "\n",
    "    # Coarse tuning: explore main params\n",
    "    if phase == \"coarse\":\n",
    "        buffer_size = trial.suggest_categorical(\"buffer_size\", [5000, 10_000, 20_000, 30_000])\n",
    "        learning_rate = trial.suggest_float(\"learning_rate\", 1e-5, 1e-3, log=True)\n",
    "        gamma = trial.suggest_float(\"gamma\", 0.85, 0.999)\n",
    "        net_arch = trial.suggest_categorical(\"net_arch\", [[64, 64], [128, 128], [256, 256]])\n",
    "        \n",
    "        config = {\n",
    "            \"learning_rate\": learning_rate,\n",
    "            \"gamma\": gamma,\n",
    "            \"net_arch\": net_arch,\n",
    "            \"buffer_size\": buffer_size,\n",
    "        }\n",
    "\n",
    "    # Fine tuning: fix coarse, tune others\n",
    "    elif phase == \"fine\":\n",
    "        assert coarse_params is not None, \"Missing coarse parameters for fine tuning\"\n",
    "        \n",
    "        learning_starts = trial.suggest_int(\"learning_starts\", 200, 2000)\n",
    "        batch_size = trial.suggest_categorical(\"batch_size\", [64, 128, 256, 512])\n",
    "        tau = trial.suggest_float(\"tau\", 0.005, 0.02)\n",
    "        ent_coef = trial.suggest_categorical(\"ent_coef\", [\"auto\", \"auto_0.1\", 1e-3, 1e-2])\n",
    "        \n",
    "        config = {\n",
    "            **coarse_params,\n",
    "            \"learning_starts\": config.get(\"learning_starts\", learning_starts),\n",
    "            \"batch_size\": batch_size,\n",
    "            \"tau\": tau,\n",
    "            \"ent_coef\": ent_coef,\n",
    "        }\n",
    "\n",
    "    # Create env and model\n",
    "    env = make_vec_env(make_env(), n_envs=1)\n",
    "    model = SAC(\n",
    "        \"MlpPolicy\",\n",
    "        env,\n",
    "        learning_rate=config[\"learning_rate\"],\n",
    "        gamma=config[\"gamma\"],\n",
    "        policy_kwargs={\"net_arch\": config[\"net_arch\"]},\n",
    "        batch_size=config.get(\"batch_size\", 64),\n",
    "        buffer_size=config.get(\"buffer_size\", 20_000),\n",
    "        learning_starts=config.get(\"learning_starts\", 1_000),\n",
    "        tau=config.get(\"tau\", 0.005),\n",
    "        train_freq=config.get(\"train_freq\", 1),\n",
    "        gradient_steps=config.get(\"gradient_steps\", 1),\n",
    "        ent_coef=config.get(\"ent_coef\", \"auto\"),\n",
    "        target_update_interval=config.get(\"target_update_interval\", 1),\n",
    "        verbose=0,\n",
    "        tensorboard_log=f\"../tensorboard_logs/intersection/SAC_phase_{phase}\",\n",
    "        device=\"cpu\"\n",
    "    )\n",
    "\n",
    "    print(f\"Starting training for trial {trial.number}...\")\n",
    "    print(f\"Phase: {phase}, Config: {config}\")\n",
    "    model.learn(total_timesteps=40_000, callback=OptunaCallback(trial))\n",
    "\n",
    "    mean_reward, _ = evaluate_policy(model, env, n_eval_episodes=5, deterministic=True)\n",
    "    trial.set_user_attr(\"mean_reward\", mean_reward)\n",
    "\n",
    "    # Save best model immediately when improved\n",
    "    if mean_reward > best_rewards[phase]:\n",
    "        best_rewards[phase] = mean_reward\n",
    "        model.save(os.path.join(SAVE_DIR, f\"SAC_best_{phase}.zip\"))\n",
    "        print(f\"Saved new best {phase} model (trial {trial.number})\")\n",
    "        if phase == \"coarse\":\n",
    "            with open(COARSE_PARAMS_PATH, \"w\") as f:\n",
    "                json.dump(config, f, indent=2)\n",
    "            print(f\"✅ Coarse tuning updated. Best trial {trial.number} saved.\")\n",
    "\n",
    "    return mean_reward\n",
    "\n",
    "# === PHASE 1: Coarse Tuning ===\n",
    "def run_coarse_phase():\n",
    "    print(\"Starting COARSE tuning...\")\n",
    "    study = optuna.create_study(\n",
    "        direction=\"maximize\",\n",
    "        sampler=optuna.samplers.TPESampler(seed=42),\n",
    "        pruner=MedianPruner(n_startup_trials=3, n_warmup_steps=1)\n",
    "    )\n",
    "    study.optimize(lambda trial: objective(trial, phase=\"coarse\"), n_trials=8)\n",
    "\n",
    "# === PHASE 2: Fine Tuning ===\n",
    "def run_fine_phase():\n",
    "    if not os.path.exists(COARSE_PARAMS_PATH):\n",
    "        raise FileNotFoundError(\"Missing coarse phase results. Run coarse phase first.\")\n",
    "    with open(COARSE_PARAMS_PATH, \"r\") as f:\n",
    "        coarse_params = json.load(f)\n",
    "\n",
    "    print(\"Starting FINE tuning with coarse-fixed params...\")\n",
    "    study = optuna.create_study(\n",
    "        direction=\"maximize\",\n",
    "        sampler=optuna.samplers.TPESampler(seed=123),\n",
    "        pruner=MedianPruner(n_startup_trials=3, n_warmup_steps=1)\n",
    "    )\n",
    "    study.optimize(lambda trial: objective(trial, phase=\"fine\", coarse_params=coarse_params), n_trials=8)\n",
    "    print(\"✅ Fine tuning complete.\")\n",
    "\n",
    "# === MAIN ===\n",
    "run_coarse = True\n",
    "run_fine = True\n",
    "\n",
    "if run_coarse:\n",
    "    run_coarse_phase()\n",
    "\n",
    "if run_fine:\n",
    "    run_fine_phase()"
   ]
  },
  {
   "cell_type": "code",
   "execution_count": null,
   "id": "3d95a890",
   "metadata": {},
   "outputs": [],
   "source": [
    "import os\n",
    "from stable_baselines3 import SAC\n",
    "from stable_baselines3.common.env_util import make_vec_env\n",
    "from stable_baselines3.common.monitor import Monitor\n",
    "import gymnasium as gym\n",
    "\n",
    "SAVE_DIR = \"../trained_models/intersection/SAC/\"\n",
    "# === Load trained Optuna model ===\n",
    "model_path = os.path.join(SAVE_DIR, \"SAC_best_fine.zip\")\n",
    "model = SAC.load(model_path)\n",
    "\n",
    "# === Environment for continued training ===\n",
    "train_env = make_vec_env(make_env(), n_envs=1)\n",
    "\n",
    "# === Rebind environment in case original wasn't saved in model ===\n",
    "model.set_env(train_env)\n",
    "\n",
    "# === Training configuration ===\n",
    "total_timesteps = 40000\n",
    "save_interval = 10000\n",
    "timesteps_run = 0\n",
    "\n",
    "cp_log_dir = f\"../checkpoints/intersection/SAC_optuna\"\n",
    "os.makedirs(cp_log_dir, exist_ok=True)\n",
    "\n",
    "while timesteps_run < total_timesteps:\n",
    "    model.learn(\n",
    "        total_timesteps=save_interval,\n",
    "        reset_num_timesteps=False,\n",
    "        tb_log_name=\"intersection_SAC_optuna\",\n",
    "        log_interval=1,\n",
    "    )\n",
    "    timesteps_run += save_interval\n",
    "    model.save(f\"{cp_log_dir}/{timesteps_run}\")\n",
    "    print(f\"✅ Saved checkpoint at {timesteps_run} timesteps\")\n",
    "\n",
    "# === Save final model ===\n",
    "final_model_path = os.path.join(SAVE_DIR, \"SAC_trained_tuned.zip\")\n",
    "model.save(final_model_path)\n",
    "print(f\"✅ Final model saved at {final_model_path}\")\n"
   ]
  },
  {
   "cell_type": "code",
   "execution_count": null,
   "id": "40c56e9f",
   "metadata": {},
   "outputs": [],
   "source": [
    "algo_name = 'SAC'\n",
    "\n",
    "tuned_eval_dir = f\"tuned/intersection/{algo_name}_tuned/\"\n",
    "video_eval_dir = os.path.join(tuned_eval_dir, \"video_eval\")\n",
    "os.makedirs(video_eval_dir, exist_ok=True)\n",
    "\n",
    "# Run 5 evaluation episodes and save each video\n",
    "for episode in range(5):\n",
    "    eval_env = DummyVecEnv([make_env(render_mode=\"rgb_array\")])\n",
    "    eval_env = VecVideoRecorder(\n",
    "        eval_env,\n",
    "        video_folder=video_eval_dir,\n",
    "        record_video_trigger=lambda step: step == 0,\n",
    "        video_length=200,\n",
    "        name_prefix=f\"tuned_ppo{episode+1}\"  # ✅ Unique name per video\n",
    "    )\n",
    "\n",
    "    obs = eval_env.reset()\n",
    "    for _ in range(200):\n",
    "        action, _ = model.predict(obs, deterministic=True)\n",
    "        obs, _, dones, _ = eval_env.step(action)\n",
    "        if dones[0]:\n",
    "            break\n",
    "\n",
    "    eval_env.close()\n",
    "    print(f\"🎥 Saved video for episode {episode+1}\")\n"
   ]
  }
 ],
 "metadata": {
  "kernelspec": {
   "display_name": "highway",
   "language": "python",
   "name": "python3"
  },
  "language_info": {
   "codemirror_mode": {
    "name": "ipython",
    "version": 3
   },
   "file_extension": ".py",
   "mimetype": "text/x-python",
   "name": "python",
   "nbconvert_exporter": "python",
   "pygments_lexer": "ipython3",
   "version": "3.8.20"
  }
 },
 "nbformat": 4,
 "nbformat_minor": 5
}
