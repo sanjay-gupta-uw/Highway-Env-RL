{
 "cells": [
  {
   "cell_type": "code",
   "execution_count": 1,
   "id": "02ac9b88",
   "metadata": {},
   "outputs": [
    {
     "name": "stderr",
     "output_type": "stream",
     "text": [
      "c:\\Users\\sanja\\anaconda3\\envs\\highway\\lib\\site-packages\\gymnasium\\envs\\registration.py:513: DeprecationWarning: \u001b[33mWARN: The environment intersection-v0 is out of date. You should consider upgrading to version `v1`.\u001b[0m\n",
      "  logger.deprecation(\n"
     ]
    },
    {
     "data": {
      "image/png": "[encoded data removed]",
      "text/plain": [
       "<Figure size 640x480 with 1 Axes>"
      ]
     },
     "metadata": {},
     "output_type": "display_data"
    }
   ],
   "source": [
    "# Import libraries and make sure intersection-env is installed properly\n",
    "import highway_env\n",
    "import gymnasium as gym\n",
    "import numpy as np\n",
    "import matplotlib.pyplot as plt\n",
    "from pprint import pprint\n",
    "# pprint([env for env in gym.envs.registry.keys() if \"intersection\" in env])\n",
    "\n",
    "# Create the environment with visual rendering\n",
    "env = gym.make(\"intersection-v0\", render_mode=\"rgb_array\")\n",
    "obs, info = env.reset()\n",
    "\n",
    "# Render and show the first frame\n",
    "frame = env.render()\n",
    "plt.imshow(frame)\n",
    "plt.axis('off')\n",
    "plt.title(\"Initial Frame\")\n",
    "plt.show()\n",
    "\n",
    "env.close()"
   ]
  },
  {
   "cell_type": "code",
   "execution_count": 2,
   "id": "c1e8a8c9",
   "metadata": {},
   "outputs": [
    {
     "name": "stdout",
     "output_type": "stream",
     "text": [
      "Environment Information:\n",
      "{'action': {'lateral': False,\n",
      "            'longitudinal': True,\n",
      "            'target_speeds': [0, 4.5, 9],\n",
      "            'type': 'DiscreteMetaAction'},\n",
      " 'arrived_reward': 1,\n",
      " 'centering_position': [0.5, 0.6],\n",
      " 'collision_reward': -5,\n",
      " 'controlled_vehicles': 1,\n",
      " 'destination': 'o1',\n",
      " 'duration': 13,\n",
      " 'high_speed_reward': 1,\n",
      " 'initial_vehicle_count': 10,\n",
      " 'manual_control': False,\n",
      " 'normalize_reward': False,\n",
      " 'observation': {'absolute': True,\n",
      "                 'features': ['presence',\n",
      "                              'x',\n",
      "                              'y',\n",
      "                              'vx',\n",
      "                              'vy',\n",
      "                              'cos_h',\n",
      "                              'sin_h'],\n",
      "                 'features_range': {'vx': [-20, 20],\n",
      "                                    'vy': [-20, 20],\n",
      "                                    'x': [-100, 100],\n",
      "                                    'y': [-100, 100]},\n",
      "                 'flatten': False,\n",
      "                 'observe_intentions': False,\n",
      "                 'type': 'Kinematics',\n",
      "                 'vehicles_count': 15},\n",
      " 'offroad_terminal': False,\n",
      " 'offscreen_rendering': False,\n",
      " 'other_vehicles_type': 'highway_env.vehicle.behavior.IDMVehicle',\n",
      " 'policy_frequency': 1,\n",
      " 'real_time_rendering': False,\n",
      " 'render_agent': True,\n",
      " 'reward_speed_range': [7.0, 9.0],\n",
      " 'scaling': 7.15,\n",
      " 'screen_height': 600,\n",
      " 'screen_width': 600,\n",
      " 'show_trajectories': False,\n",
      " 'simulation_frequency': 15,\n",
      " 'spawn_probability': 0.6}\n",
      "Action Space: Discrete(3)\n"
     ]
    }
   ],
   "source": [
    "from pprint import pprint\n",
    "\n",
    "# print the environment information\n",
    "print(\"Environment Information:\")\n",
    "pprint(env.unwrapped.config)\n",
    "print(\"Action Space:\", env.action_space)"
   ]
  },
  {
   "cell_type": "code",
   "execution_count": 3,
   "id": "1aa6b2bc",
   "metadata": {},
   "outputs": [
    {
     "name": "stdout",
     "output_type": "stream",
     "text": [
      "2.17.1\n"
     ]
    }
   ],
   "source": [
    "import tensorboard\n",
    "print(tensorboard.__version__)"
   ]
  },
  {
   "cell_type": "code",
   "execution_count": 4,
   "id": "d78b6e3a",
   "metadata": {},
   "outputs": [
    {
     "name": "stdout",
     "output_type": "stream",
     "text": [
      "True\n",
      "NVIDIA GeForce RTX 3080\n"
     ]
    }
   ],
   "source": [
    "import torch\n",
    "print(torch.cuda.is_available())   # Should be True\n",
    "print(torch.cuda.get_device_name(0))  # Should show GPU name\n"
   ]
  },
  {
   "cell_type": "code",
   "execution_count": 5,
   "id": "3bf56b64",
   "metadata": {},
   "outputs": [],
   "source": [
    "import gymnasium as gym\n",
    "from stable_baselines3.common.monitor import Monitor\n",
    "# === Create wrapped evaluation env ===\n",
    "def make_env(render_mode=None):\n",
    "    def _init():\n",
    "        env = gym.make(\"intersection-v0\", render_mode=render_mode)\n",
    "        return Monitor(env)\n",
    "    return _init"
   ]
  },
  {
   "cell_type": "code",
   "execution_count": 6,
   "id": "7e4c2492",
   "metadata": {},
   "outputs": [
    {
     "name": "stderr",
     "output_type": "stream",
     "text": [
      "[I 2025-07-31 01:47:45,859] A new study created in memory with name: no-name-ffb84a47-eb70-4abf-b4c0-6e2f4a13c45d\n"
     ]
    },
    {
     "name": "stdout",
     "output_type": "stream",
     "text": [
      "Starting FINE tuning with coarse-fixed params...\n"
     ]
    },
    {
     "name": "stderr",
     "output_type": "stream",
     "text": [
      "c:\\Users\\sanja\\anaconda3\\envs\\highway\\lib\\site-packages\\gymnasium\\envs\\registration.py:513: DeprecationWarning: \u001b[33mWARN: The environment intersection-v0 is out of date. You should consider upgrading to version `v1`.\u001b[0m\n",
      "  logger.deprecation(\n"
     ]
    },
    {
     "name": "stdout",
     "output_type": "stream",
     "text": [
      "Starting training for trial 0...\n",
      "Phase: fine, Config: {'learning_rate': 1.0994335574766187e-05, 'gamma': 0.9945165679721372, 'net_arch': [64, 64], 'entropy_coef': 0.0348538123613333, 'clip_range': 0.1572278669900759, 'gae_lambda': 0.8431017761771986, 'vf_coef': 0.6307888614497348, 'max_grad_norm': 0.8036282788498941, 'n_steps': 128, 'batch_size': 32}\n"
     ]
    },
    {
     "name": "stderr",
     "output_type": "stream",
     "text": [
      "[I 2025-07-31 01:55:34,585] Trial 0 finished with value: 1.6 and parameters: {'entropy_coef': 0.0348538123613333, 'clip_range': 0.1572278669900759, 'gae_lambda': 0.8431017761771986, 'vf_coef': 0.6307888614497348, 'max_grad_norm': 0.8036282788498941, 'n_steps': 128, 'batch_size': 32}. Best is trial 0 with value: 1.6.\n"
     ]
    },
    {
     "name": "stdout",
     "output_type": "stream",
     "text": [
      "Saved new best fine model (trial 0)\n",
      "Starting training for trial 1...\n",
      "Phase: fine, Config: {'learning_rate': 1.0994335574766187e-05, 'gamma': 0.9945165679721372, 'net_arch': [64, 64], 'entropy_coef': 0.03647958039846368, 'clip_range': 0.18771444893592487, 'gae_lambda': 0.8113388003558181, 'vf_coef': 0.5388265531982589, 'max_grad_norm': 0.8165967840124249, 'n_steps': 256, 'batch_size': 128}\n"
     ]
    },
    {
     "name": "stderr",
     "output_type": "stream",
     "text": [
      "c:\\Users\\sanja\\anaconda3\\envs\\highway\\lib\\site-packages\\gymnasium\\envs\\registration.py:513: DeprecationWarning: \u001b[33mWARN: The environment intersection-v0 is out of date. You should consider upgrading to version `v1`.\u001b[0m\n",
      "  logger.deprecation(\n",
      "[I 2025-07-31 02:03:22,337] Trial 1 finished with value: 3.4 and parameters: {'entropy_coef': 0.03647958039846368, 'clip_range': 0.18771444893592487, 'gae_lambda': 0.8113388003558181, 'vf_coef': 0.5388265531982589, 'max_grad_norm': 0.8165967840124249, 'n_steps': 256, 'batch_size': 128}. Best is trial 1 with value: 3.4.\n"
     ]
    },
    {
     "name": "stdout",
     "output_type": "stream",
     "text": [
      "Saved new best fine model (trial 1)\n",
      "Starting training for trial 2...\n",
      "Phase: fine, Config: {'learning_rate': 1.0994335574766187e-05, 'gamma': 0.9945165679721372, 'net_arch': [64, 64], 'entropy_coef': 0.0362503207105457, 'clip_range': 0.22220470213551657, 'gae_lambda': 0.9372642426883421, 'vf_coef': 0.49377534831190695, 'max_grad_norm': 0.5532520589356198, 'n_steps': 256, 'batch_size': 64}\n"
     ]
    },
    {
     "name": "stderr",
     "output_type": "stream",
     "text": [
      "c:\\Users\\sanja\\anaconda3\\envs\\highway\\lib\\site-packages\\gymnasium\\envs\\registration.py:513: DeprecationWarning: \u001b[33mWARN: The environment intersection-v0 is out of date. You should consider upgrading to version `v1`.\u001b[0m\n",
      "  logger.deprecation(\n",
      "[I 2025-07-31 02:11:06,132] Trial 2 finished with value: 1.8240182 and parameters: {'entropy_coef': 0.0362503207105457, 'clip_range': 0.22220470213551657, 'gae_lambda': 0.9372642426883421, 'vf_coef': 0.49377534831190695, 'max_grad_norm': 0.5532520589356198, 'n_steps': 256, 'batch_size': 64}. Best is trial 1 with value: 3.4.\n",
      "c:\\Users\\sanja\\anaconda3\\envs\\highway\\lib\\site-packages\\gymnasium\\envs\\registration.py:513: DeprecationWarning: \u001b[33mWARN: The environment intersection-v0 is out of date. You should consider upgrading to version `v1`.\u001b[0m\n",
      "  logger.deprecation(\n",
      "c:\\Users\\sanja\\anaconda3\\envs\\highway\\lib\\site-packages\\stable_baselines3\\ppo\\ppo.py:155: UserWarning: You have specified a mini-batch size of 128, but because the `RolloutBuffer` is of size `n_steps * n_envs = 64`, after every 0 untruncated mini-batches, there will be a truncated mini-batch of size 64\n",
      "We recommend using a `batch_size` that is a factor of `n_steps * n_envs`.\n",
      "Info: (n_steps=64 and n_envs=1)\n",
      "  warnings.warn(\n"
     ]
    },
    {
     "name": "stdout",
     "output_type": "stream",
     "text": [
      "Starting training for trial 3...\n",
      "Phase: fine, Config: {'learning_rate': 1.0994335574766187e-05, 'gamma': 0.9945165679721372, 'net_arch': [64, 64], 'entropy_coef': 0.02473488637275028, 'clip_range': 0.18516605805916558, 'gae_lambda': 0.8593296323647684, 'vf_coef': 0.5558107841776849, 'max_grad_norm': 0.9253724141819943, 'n_steps': 64, 'batch_size': 128}\n"
     ]
    },
    {
     "name": "stderr",
     "output_type": "stream",
     "text": [
      "[I 2025-07-31 02:15:39,197] Trial 3 pruned. \n",
      "c:\\Users\\sanja\\anaconda3\\envs\\highway\\lib\\site-packages\\gymnasium\\envs\\registration.py:513: DeprecationWarning: \u001b[33mWARN: The environment intersection-v0 is out of date. You should consider upgrading to version `v1`.\u001b[0m\n",
      "  logger.deprecation(\n"
     ]
    },
    {
     "name": "stdout",
     "output_type": "stream",
     "text": [
      "Starting training for trial 4...\n",
      "Phase: fine, Config: {'learning_rate': 1.0994335574766187e-05, 'gamma': 0.9945165679721372, 'net_arch': [64, 64], 'entropy_coef': 0.04332882697837996, 'clip_range': 0.15009107307930133, 'gae_lambda': 0.8917765102099139, 'vf_coef': 0.891335871366423, 'max_grad_norm': 0.6636395834818665, 'n_steps': 256, 'batch_size': 32}\n"
     ]
    },
    {
     "name": "stderr",
     "output_type": "stream",
     "text": [
      "[I 2025-07-31 02:23:28,527] Trial 4 finished with value: 3.8 and parameters: {'entropy_coef': 0.04332882697837996, 'clip_range': 0.15009107307930133, 'gae_lambda': 0.8917765102099139, 'vf_coef': 0.891335871366423, 'max_grad_norm': 0.6636395834818665, 'n_steps': 256, 'batch_size': 32}. Best is trial 4 with value: 3.8.\n"
     ]
    },
    {
     "name": "stdout",
     "output_type": "stream",
     "text": [
      "Saved new best fine model (trial 4)\n",
      "Starting training for trial 5...\n",
      "Phase: fine, Config: {'learning_rate': 1.0994335574766187e-05, 'gamma': 0.9945165679721372, 'net_arch': [64, 64], 'entropy_coef': 0.015275627372456486, 'clip_range': 0.18340444220494032, 'gae_lambda': 0.9294471455006313, 'vf_coef': 0.8252741050771051, 'max_grad_norm': 0.6572956362346077, 'n_steps': 64, 'batch_size': 64}\n"
     ]
    },
    {
     "name": "stderr",
     "output_type": "stream",
     "text": [
      "c:\\Users\\sanja\\anaconda3\\envs\\highway\\lib\\site-packages\\gymnasium\\envs\\registration.py:513: DeprecationWarning: \u001b[33mWARN: The environment intersection-v0 is out of date. You should consider upgrading to version `v1`.\u001b[0m\n",
      "  logger.deprecation(\n",
      "[I 2025-07-31 02:28:00,685] Trial 5 pruned. \n",
      "c:\\Users\\sanja\\anaconda3\\envs\\highway\\lib\\site-packages\\gymnasium\\envs\\registration.py:513: DeprecationWarning: \u001b[33mWARN: The environment intersection-v0 is out of date. You should consider upgrading to version `v1`.\u001b[0m\n",
      "  logger.deprecation(\n"
     ]
    },
    {
     "name": "stdout",
     "output_type": "stream",
     "text": [
      "Starting training for trial 6...\n",
      "Phase: fine, Config: {'learning_rate': 1.0994335574766187e-05, 'gamma': 0.9945165679721372, 'net_arch': [64, 64], 'entropy_coef': 0.03820777378802258, 'clip_range': 0.1487332749073748, 'gae_lambda': 0.8369023625099665, 'vf_coef': 0.6434741744948839, 'max_grad_norm': 0.36699876162867096, 'n_steps': 64, 'batch_size': 64}\n"
     ]
    },
    {
     "name": "stderr",
     "output_type": "stream",
     "text": [
      "[I 2025-07-31 02:29:30,756] Trial 6 pruned. \n",
      "c:\\Users\\sanja\\anaconda3\\envs\\highway\\lib\\site-packages\\gymnasium\\envs\\registration.py:513: DeprecationWarning: \u001b[33mWARN: The environment intersection-v0 is out of date. You should consider upgrading to version `v1`.\u001b[0m\n",
      "  logger.deprecation(\n"
     ]
    },
    {
     "name": "stdout",
     "output_type": "stream",
     "text": [
      "Starting training for trial 7...\n",
      "Phase: fine, Config: {'learning_rate': 1.0994335574766187e-05, 'gamma': 0.9945165679721372, 'net_arch': [64, 64], 'entropy_coef': 0.008032086242821665, 'clip_range': 0.13061410302495463, 'gae_lambda': 0.9321506104664731, 'vf_coef': 0.4912598558291258, 'max_grad_norm': 0.7843792068722737, 'n_steps': 256, 'batch_size': 32}\n"
     ]
    },
    {
     "name": "stderr",
     "output_type": "stream",
     "text": [
      "[I 2025-07-31 02:34:03,898] Trial 7 pruned. \n"
     ]
    },
    {
     "name": "stdout",
     "output_type": "stream",
     "text": [
      "✅ Fine tuning complete.\n"
     ]
    }
   ],
   "source": [
    "import os\n",
    "import json\n",
    "import optuna\n",
    "import torch\n",
    "import gymnasium as gym\n",
    "from stable_baselines3 import PPO\n",
    "from stable_baselines3.common.monitor import Monitor\n",
    "from stable_baselines3.common.env_util import make_vec_env\n",
    "from stable_baselines3.common.evaluation import evaluate_policy\n",
    "from stable_baselines3.common.callbacks import BaseCallback\n",
    "from optuna.pruners import MedianPruner\n",
    "\n",
    "# === Configuration ===\n",
    "SAVE_DIR = \"../trained_models/intersection/PPO/\"\n",
    "os.makedirs(SAVE_DIR, exist_ok=True)\n",
    "\n",
    "COARSE_PARAMS_PATH = os.path.join(SAVE_DIR, \"PPO_best_coarse_params.json\")\n",
    "\n",
    "# Track best rewards per phase\n",
    "best_rewards = {\"coarse\": -float(\"inf\"), \"fine\": -float(\"inf\")}\n",
    "\n",
    "# === Optuna Callback for pruning ===\n",
    "class OptunaCallback(BaseCallback):\n",
    "    def __init__(self, trial, eval_freq=2000, n_eval_episodes=3, verbose=0):\n",
    "        super().__init__(verbose)\n",
    "        self.trial = trial\n",
    "        self.eval_freq = eval_freq\n",
    "        self.n_eval_episodes = n_eval_episodes\n",
    "\n",
    "    def _on_step(self):\n",
    "        if self.n_calls % self.eval_freq == 0:\n",
    "            reward, _ = evaluate_policy(self.model, self.training_env, n_eval_episodes=self.n_eval_episodes, deterministic=True)\n",
    "            self.trial.report(reward, self.n_calls)\n",
    "            if self.trial.should_prune():\n",
    "                raise optuna.exceptions.TrialPruned()\n",
    "        return True\n",
    "\n",
    "# === Objective Function ===\n",
    "def objective(trial, phase, coarse_params=None):\n",
    "    global best_rewards\n",
    "\n",
    "    # Coarse tuning: explore main params\n",
    "    if phase == \"coarse\":\n",
    "        learning_rate = trial.suggest_float(\"learning_rate\", 1e-5, 1e-3, log=True)\n",
    "        gamma = trial.suggest_float(\"gamma\", 0.85, 0.999)\n",
    "        net_arch = trial.suggest_categorical(\"net_arch\", [[64, 64], [128, 128], [256, 256]])\n",
    "        config = {\n",
    "            \"learning_rate\": learning_rate,\n",
    "            \"gamma\": gamma,\n",
    "            \"net_arch\": net_arch,\n",
    "        }\n",
    "\n",
    "    # Fine tuning: fix coarse, tune others\n",
    "    elif phase == \"fine\":\n",
    "        assert coarse_params is not None, \"Missing coarse parameters for fine tuning\"\n",
    "        config = {\n",
    "            **coarse_params,\n",
    "            \"entropy_coef\": trial.suggest_float(\"entropy_coef\", 1e-4, 0.05),\n",
    "            \"clip_range\": trial.suggest_float(\"clip_range\", 0.1, 0.3),\n",
    "            \"gae_lambda\": trial.suggest_float(\"gae_lambda\", 0.8, 0.99),\n",
    "            \"vf_coef\": trial.suggest_float(\"vf_coef\", 0.3, 0.9),\n",
    "            \"max_grad_norm\": trial.suggest_float(\"max_grad_norm\", 0.3, 1.0),\n",
    "            \"n_steps\": trial.suggest_categorical(\"n_steps\", [64, 128, 256]),\n",
    "            \"batch_size\": trial.suggest_categorical(\"batch_size\", [32, 64, 128])\n",
    "        }\n",
    "\n",
    "    # Create env and model\n",
    "    env = make_vec_env(make_env(), n_envs=1)\n",
    "    model = PPO(\n",
    "        \"MlpPolicy\",\n",
    "        env,\n",
    "        learning_rate=config[\"learning_rate\"],\n",
    "        gamma=config[\"gamma\"],\n",
    "        policy_kwargs={\"net_arch\": config[\"net_arch\"]},\n",
    "        ent_coef=config.get(\"entropy_coef\", 0.01),\n",
    "        clip_range=config.get(\"clip_range\", 0.2),\n",
    "        gae_lambda=config.get(\"gae_lambda\", 0.95),\n",
    "        vf_coef=config.get(\"vf_coef\", 0.5),\n",
    "        max_grad_norm=config.get(\"max_grad_norm\", 0.5),\n",
    "        n_steps=config.get(\"n_steps\", 128),\n",
    "        batch_size=config.get(\"batch_size\", 64),\n",
    "        verbose=0,\n",
    "        tensorboard_log=f\"../tensorboard_logs/intersection/PPO_phase_{phase}\",\n",
    "        device=\"cpu\"\n",
    "    )\n",
    "\n",
    "    print(f\"Starting training for trial {trial.number}...\")\n",
    "    print(f\"Phase: {phase}, Config: {config}\")\n",
    "    model.learn(total_timesteps=10_000, callback=OptunaCallback(trial))\n",
    "\n",
    "    mean_reward, _ = evaluate_policy(model, env, n_eval_episodes=5, deterministic=True)\n",
    "    trial.set_user_attr(\"mean_reward\", mean_reward)\n",
    "\n",
    "    # Save best model immediately when improved\n",
    "    if mean_reward > best_rewards[phase]:\n",
    "        best_rewards[phase] = mean_reward\n",
    "        model.save(os.path.join(SAVE_DIR, f\"PPO_best_{phase}.zip\"))\n",
    "        print(f\"Saved new best {phase} model (trial {trial.number})\")\n",
    "        if phase == \"coarse\":\n",
    "            with open(COARSE_PARAMS_PATH, \"w\") as f:\n",
    "                json.dump(config, f, indent=2)\n",
    "            print(f\"✅ Coarse tuning updated. Best trial {trial.number} saved.\")\n",
    "\n",
    "    return mean_reward\n",
    "\n",
    "# === PHASE 1: Coarse Tuning ===\n",
    "def run_coarse_phase():\n",
    "    print(\"Starting COARSE tuning...\")\n",
    "    study = optuna.create_study(\n",
    "        direction=\"maximize\",\n",
    "        sampler=optuna.samplers.TPESampler(seed=42),\n",
    "        pruner=MedianPruner(n_startup_trials=3, n_warmup_steps=1)\n",
    "    )\n",
    "    study.optimize(lambda trial: objective(trial, phase=\"coarse\"), n_trials=8)\n",
    "\n",
    "# === PHASE 2: Fine Tuning ===\n",
    "def run_fine_phase():\n",
    "    if not os.path.exists(COARSE_PARAMS_PATH):\n",
    "        raise FileNotFoundError(\"Missing coarse phase results. Run coarse phase first.\")\n",
    "    with open(COARSE_PARAMS_PATH, \"r\") as f:\n",
    "        coarse_params = json.load(f)\n",
    "\n",
    "    print(\"Starting FINE tuning with coarse-fixed params...\")\n",
    "    study = optuna.create_study(\n",
    "        direction=\"maximize\",\n",
    "        sampler=optuna.samplers.TPESampler(seed=123),\n",
    "        pruner=MedianPruner(n_startup_trials=3, n_warmup_steps=1)\n",
    "    )\n",
    "    study.optimize(lambda trial: objective(trial, phase=\"fine\", coarse_params=coarse_params), n_trials=8)\n",
    "    print(\"✅ Fine tuning complete.\")\n",
    "\n",
    "# === MAIN ===\n",
    "run_coarse = False\n",
    "run_fine = True\n",
    "\n",
    "if run_coarse:\n",
    "    run_coarse_phase()\n",
    "\n",
    "if run_fine:\n",
    "    run_fine_phase()\n"
   ]
  },
  {
   "cell_type": "code",
   "execution_count": 7,
   "id": "48f56b51",
   "metadata": {},
   "outputs": [
    {
     "name": "stderr",
     "output_type": "stream",
     "text": [
      "c:\\Users\\sanja\\anaconda3\\envs\\highway\\lib\\site-packages\\stable_baselines3\\common\\on_policy_algorithm.py:150: UserWarning: You are trying to run PPO on the GPU, but it is primarily intended to run on the CPU when not using a CNN policy (you are using ActorCriticPolicy which should be a MlpPolicy). See https://github.com/DLR-RM/stable-baselines3/issues/1245 for more info. You can pass `device='cpu'` or `export CUDA_VISIBLE_DEVICES=` to force using the CPU.Note: The model will train, but the GPU utilization will be poor and the training might take longer than on CPU.\n",
      "  warnings.warn(\n",
      "c:\\Users\\sanja\\anaconda3\\envs\\highway\\lib\\site-packages\\gymnasium\\envs\\registration.py:513: DeprecationWarning: \u001b[33mWARN: The environment intersection-v0 is out of date. You should consider upgrading to version `v1`.\u001b[0m\n",
      "  logger.deprecation(\n"
     ]
    },
    {
     "name": "stdout",
     "output_type": "stream",
     "text": [
      "✅ Saved checkpoint at 10000 timesteps\n",
      "✅ Saved checkpoint at 20000 timesteps\n",
      "✅ Saved checkpoint at 30000 timesteps\n",
      "✅ Saved checkpoint at 40000 timesteps\n",
      "✅ Final model saved at ../trained_models/intersection/PPO/PPO_trained_tuned.zip\n"
     ]
    }
   ],
   "source": [
    "import os\n",
    "from stable_baselines3 import PPO\n",
    "from stable_baselines3.common.env_util import make_vec_env\n",
    "from stable_baselines3.common.monitor import Monitor\n",
    "import gymnasium as gym\n",
    "\n",
    "SAVE_DIR = \"../trained_models/intersection/PPO/\"\n",
    "# === Load trained Optuna model ===\n",
    "model_path = os.path.join(SAVE_DIR, \"PPO_best_fine.zip\")\n",
    "model = PPO.load(model_path)\n",
    "\n",
    "# === Environment for continued training ===\n",
    "train_env = make_vec_env(make_env(), n_envs=1)\n",
    "\n",
    "# === Rebind environment in case original wasn't saved in model ===\n",
    "model.set_env(train_env)\n",
    "\n",
    "# === Training configuration ===\n",
    "total_timesteps = 40000\n",
    "save_interval = 10000\n",
    "timesteps_run = 0\n",
    "\n",
    "cp_log_dir = f\"../checkpoints/intersection/PPO_optuna\"\n",
    "os.makedirs(cp_log_dir, exist_ok=True)\n",
    "\n",
    "while timesteps_run < total_timesteps:\n",
    "    model.learn(\n",
    "        total_timesteps=save_interval,\n",
    "        reset_num_timesteps=False,\n",
    "        tb_log_name=\"intersection_PPO_optuna\",\n",
    "        log_interval=1,\n",
    "    )\n",
    "    timesteps_run += save_interval\n",
    "    model.save(f\"{cp_log_dir}/{timesteps_run}\")\n",
    "    print(f\"✅ Saved checkpoint at {timesteps_run} timesteps\")\n",
    "\n",
    "# === Save final model ===\n",
    "final_model_path = os.path.join(SAVE_DIR, \"PPO_trained_tuned.zip\")\n",
    "model.save(final_model_path)\n",
    "print(f\"✅ Final model saved at {final_model_path}\")\n"
   ]
  },
  {
   "cell_type": "code",
   "execution_count": 9,
   "id": "a8f701f8",
   "metadata": {},
   "outputs": [
    {
     "name": "stderr",
     "output_type": "stream",
     "text": [
      "c:\\Users\\sanja\\anaconda3\\envs\\highway\\lib\\site-packages\\stable_baselines3\\common\\on_policy_algorithm.py:150: UserWarning: You are trying to run PPO on the GPU, but it is primarily intended to run on the CPU when not using a CNN policy (you are using ActorCriticPolicy which should be a MlpPolicy). See https://github.com/DLR-RM/stable-baselines3/issues/1245 for more info. You can pass `device='cpu'` or `export CUDA_VISIBLE_DEVICES=` to force using the CPU.Note: The model will train, but the GPU utilization will be poor and the training might take longer than on CPU.\n",
      "  warnings.warn(\n",
      "c:\\Users\\sanja\\anaconda3\\envs\\highway\\lib\\site-packages\\gymnasium\\envs\\registration.py:513: DeprecationWarning: \u001b[33mWARN: The environment intersection-v0 is out of date. You should consider upgrading to version `v1`.\u001b[0m\n",
      "  logger.deprecation(\n",
      "IMAGEIO FFMPEG_WRITER WARNING: input image is not divisible by macro_block_size=16, resizing from (600, 600) to (608, 608) to ensure video compatibility with most codecs and players. To prevent resizing, make your input image divisible by the macro_block_size or set the macro_block_size to 1 (risking incompatibility).\n"
     ]
    },
    {
     "data": {
      "text/html": [
       "<video controls  width=\"600\"  height=\"400\">\n",
       " <source src=\"data:video/mp4;base64,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\" type=\"video/mp4\">\n",
       " Your browser does not support the video tag.\n",
       " </video>"
      ],
      "text/plain": [
       "<IPython.core.display.Video object>"
      ]
     },
     "execution_count": 9,
     "metadata": {},
     "output_type": "execute_result"
    }
   ],
   "source": [
    "import os\n",
    "import numpy as np\n",
    "import imageio\n",
    "from stable_baselines3 import PPO\n",
    "from stable_baselines3.common.monitor import Monitor\n",
    "from stable_baselines3.common.vec_env import DummyVecEnv, VecFrameStack\n",
    "import gymnasium as gym\n",
    "from stable_baselines3.common.env_util import make_vec_env\n",
    "from IPython.display import Video\n",
    "\n",
    "# === Configuration ===\n",
    "algo_name = \"PPO\"\n",
    "video_eval_dir = f\"../tuned/intersection/{algo_name}_tuned/video_eval\"\n",
    "os.makedirs(video_eval_dir, exist_ok=True)\n",
    "video_path = os.path.join(video_eval_dir, f\"{algo_name}_eval.mp4\")\n",
    "\n",
    "# === Load trained model ===\n",
    "model_path = \"../trained_models/intersection/PPO/PPO_trained_tuned.zip\"\n",
    "model = PPO.load(model_path)\n",
    "\n",
    "env = make_vec_env(make_env(render_mode=\"rgb_array\"), n_envs=1)\n",
    "# === Evaluate and collect frames ===\n",
    "frames = []\n",
    "num_episodes = 5  # Number of episodes to evaluate\n",
    "\n",
    "for i in range(num_episodes):\n",
    "    # === Synchronize the two environments ===\n",
    "    obs_stacked = env.reset()\n",
    "    done = False\n",
    "    while not done:\n",
    "        action, _ = model.predict(obs_stacked)\n",
    "        obs_stacked, _, done, _ = env.step(action)\n",
    "\n",
    "        frame = env.render()\n",
    "        frames.append(frame)\n",
    "        if done[0]:  \n",
    "            break\n",
    "\n",
    "    # Add a few idle frames for padding\n",
    "    for _ in range(10):\n",
    "        frames.append(frames[-1])\n",
    "\n",
    "# === Save video ===\n",
    "imageio.mimsave(video_path, frames, fps=30)\n",
    "\n",
    "# === Display video ===\n",
    "Video(video_path, embed=True, width=600, height=400)\n"
   ]
  }
 ],
 "metadata": {
  "kernelspec": {
   "display_name": "highway",
   "language": "python",
   "name": "python3"
  },
  "language_info": {
   "codemirror_mode": {
    "name": "ipython",
    "version": 3
   },
   "file_extension": ".py",
   "mimetype": "text/x-python",
   "name": "python",
   "nbconvert_exporter": "python",
   "pygments_lexer": "ipython3",
   "version": "3.8.20"
  }
 },
 "nbformat": 4,
 "nbformat_minor": 5
}
