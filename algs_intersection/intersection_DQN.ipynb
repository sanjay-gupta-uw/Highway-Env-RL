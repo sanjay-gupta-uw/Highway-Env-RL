{
 "cells": [
  {
   "cell_type": "code",
   "execution_count": 1,
   "id": "a394f413",
   "metadata": {},
   "outputs": [
    {
     "name": "stderr",
     "output_type": "stream",
     "text": [
      "c:\\Users\\sanja\\anaconda3\\envs\\highway\\lib\\site-packages\\gymnasium\\envs\\registration.py:513: DeprecationWarning: \u001b[33mWARN: The environment intersection-v0 is out of date. You should consider upgrading to version `v1`.\u001b[0m\n",
      "  logger.deprecation(\n"
     ]
    },
    {
     "data": {
      "image/png": "[encoded data removed]",
      "text/plain": [
       "<Figure size 640x480 with 1 Axes>"
      ]
     },
     "metadata": {},
     "output_type": "display_data"
    }
   ],
   "source": [
    "# Import libraries and make sure highway-env is installed properly\n",
    "import gymnasium\n",
    "import highway_env\n",
    "import numpy as np\n",
    "import matplotlib.pyplot as plt\n",
    "\n",
    "# Create the environment with visual rendering\n",
    "env = gymnasium.make(\"intersection-v0\", render_mode=\"rgb_array\")\n",
    "obs, info = env.reset()\n",
    "\n",
    "# Render and show the first frame\n",
    "frame = env.render()\n",
    "plt.imshow(frame)\n",
    "plt.axis('off')\n",
    "plt.title(\"Initial Frame\")\n",
    "plt.show()\n",
    "\n",
    "env.close()"
   ]
  },
  {
   "cell_type": "code",
   "execution_count": 2,
   "id": "463ca720",
   "metadata": {},
   "outputs": [
    {
     "name": "stdout",
     "output_type": "stream",
     "text": [
      "Environment Information:\n",
      "{'action': {'lateral': False,\n",
      "            'longitudinal': True,\n",
      "            'target_speeds': [0, 4.5, 9],\n",
      "            'type': 'DiscreteMetaAction'},\n",
      " 'arrived_reward': 1,\n",
      " 'centering_position': [0.5, 0.6],\n",
      " 'collision_reward': -5,\n",
      " 'controlled_vehicles': 1,\n",
      " 'destination': 'o1',\n",
      " 'duration': 13,\n",
      " 'high_speed_reward': 1,\n",
      " 'initial_vehicle_count': 10,\n",
      " 'manual_control': False,\n",
      " 'normalize_reward': False,\n",
      " 'observation': {'absolute': True,\n",
      "                 'features': ['presence',\n",
      "                              'x',\n",
      "                              'y',\n",
      "                              'vx',\n",
      "                              'vy',\n",
      "                              'cos_h',\n",
      "                              'sin_h'],\n",
      "                 'features_range': {'vx': [-20, 20],\n",
      "                                    'vy': [-20, 20],\n",
      "                                    'x': [-100, 100],\n",
      "                                    'y': [-100, 100]},\n",
      "                 'flatten': False,\n",
      "                 'observe_intentions': False,\n",
      "                 'type': 'Kinematics',\n",
      "                 'vehicles_count': 15},\n",
      " 'offroad_terminal': False,\n",
      " 'offscreen_rendering': False,\n",
      " 'other_vehicles_type': 'highway_env.vehicle.behavior.IDMVehicle',\n",
      " 'policy_frequency': 1,\n",
      " 'real_time_rendering': False,\n",
      " 'render_agent': True,\n",
      " 'reward_speed_range': [7.0, 9.0],\n",
      " 'scaling': 7.15,\n",
      " 'screen_height': 600,\n",
      " 'screen_width': 600,\n",
      " 'show_trajectories': False,\n",
      " 'simulation_frequency': 15,\n",
      " 'spawn_probability': 0.6}\n"
     ]
    }
   ],
   "source": [
    "from pprint import pprint\n",
    "\n",
    "# print the environment information\n",
    "print(\"Environment Information:\")\n",
    "pprint(env.unwrapped.config)"
   ]
  },
  {
   "cell_type": "code",
   "execution_count": 3,
   "id": "84c6f257",
   "metadata": {},
   "outputs": [
    {
     "name": "stdout",
     "output_type": "stream",
     "text": [
      "True\n",
      "NVIDIA GeForce RTX 3080\n"
     ]
    }
   ],
   "source": [
    "import torch\n",
    "print(torch.cuda.is_available())   # Should be True\n",
    "print(torch.cuda.get_device_name(0))  # Should show GPU name\n"
   ]
  },
  {
   "cell_type": "code",
   "execution_count": 4,
   "id": "87976a26",
   "metadata": {},
   "outputs": [],
   "source": [
    "import gymnasium as gym\n",
    "from stable_baselines3.common.monitor import Monitor\n",
    "# === Create wrapped evaluation env ===\n",
    "def make_env(render_mode=None):\n",
    "    def _init():\n",
    "        env = gym.make(\"intersection-v0\", render_mode=render_mode)\n",
    "        return Monitor(env)\n",
    "    return _init"
   ]
  },
  {
   "cell_type": "code",
   "execution_count": 5,
   "id": "b29008a2",
   "metadata": {},
   "outputs": [
    {
     "name": "stderr",
     "output_type": "stream",
     "text": [
      "[I 2025-07-30 23:36:55,146] A new study created in memory with name: no-name-579a7b73-ba83-43e2-8c6f-745363983335\n"
     ]
    },
    {
     "name": "stdout",
     "output_type": "stream",
     "text": [
      "🔍 Starting FINE tuning...\n"
     ]
    },
    {
     "name": "stderr",
     "output_type": "stream",
     "text": [
      "c:\\Users\\sanja\\anaconda3\\envs\\highway\\lib\\site-packages\\optuna\\distributions.py:518: UserWarning: Choices for a categorical distribution should be a tuple of None, bool, int, float and str for persistent storage but contains [64, 64] which is of type list.\n",
      "  warnings.warn(message)\n",
      "c:\\Users\\sanja\\anaconda3\\envs\\highway\\lib\\site-packages\\optuna\\distributions.py:518: UserWarning: Choices for a categorical distribution should be a tuple of None, bool, int, float and str for persistent storage but contains [128, 128] which is of type list.\n",
      "  warnings.warn(message)\n",
      "c:\\Users\\sanja\\anaconda3\\envs\\highway\\lib\\site-packages\\optuna\\distributions.py:518: UserWarning: Choices for a categorical distribution should be a tuple of None, bool, int, float and str for persistent storage but contains [256, 256] which is of type list.\n",
      "  warnings.warn(message)\n",
      "c:\\Users\\sanja\\anaconda3\\envs\\highway\\lib\\site-packages\\gymnasium\\envs\\registration.py:513: DeprecationWarning: \u001b[33mWARN: The environment intersection-v0 is out of date. You should consider upgrading to version `v1`.\u001b[0m\n",
      "  logger.deprecation(\n"
     ]
    },
    {
     "name": "stdout",
     "output_type": "stream",
     "text": [
      "Starting training for trial 0...\n"
     ]
    },
    {
     "name": "stderr",
     "output_type": "stream",
     "text": [
      "[I 2025-07-30 23:47:40,152] Trial 0 finished with value: 2.4 and parameters: {'learning_rate': 5.6115164153345e-05, 'gamma': 0.9916564316550776, 'net_arch': [64, 64], 'exploration_fraction': 0.16239780813448107, 'batch_size': 64}. Best is trial 0 with value: 2.4.\n"
     ]
    },
    {
     "name": "stdout",
     "output_type": "stream",
     "text": [
      "Saved new best fine-tuned model (trial 0)\n",
      "Starting training for trial 1...\n"
     ]
    },
    {
     "name": "stderr",
     "output_type": "stream",
     "text": [
      "c:\\Users\\sanja\\anaconda3\\envs\\highway\\lib\\site-packages\\optuna\\distributions.py:518: UserWarning: Choices for a categorical distribution should be a tuple of None, bool, int, float and str for persistent storage but contains [64, 64] which is of type list.\n",
      "  warnings.warn(message)\n",
      "c:\\Users\\sanja\\anaconda3\\envs\\highway\\lib\\site-packages\\optuna\\distributions.py:518: UserWarning: Choices for a categorical distribution should be a tuple of None, bool, int, float and str for persistent storage but contains [128, 128] which is of type list.\n",
      "  warnings.warn(message)\n",
      "c:\\Users\\sanja\\anaconda3\\envs\\highway\\lib\\site-packages\\optuna\\distributions.py:518: UserWarning: Choices for a categorical distribution should be a tuple of None, bool, int, float and str for persistent storage but contains [256, 256] which is of type list.\n",
      "  warnings.warn(message)\n",
      "c:\\Users\\sanja\\anaconda3\\envs\\highway\\lib\\site-packages\\gymnasium\\envs\\registration.py:513: DeprecationWarning: \u001b[33mWARN: The environment intersection-v0 is out of date. You should consider upgrading to version `v1`.\u001b[0m\n",
      "  logger.deprecation(\n",
      "[I 2025-07-30 23:58:22,753] Trial 1 finished with value: 7.4 and parameters: {'learning_rate': 1.0994335574766187e-05, 'gamma': 0.9945165679721372, 'net_arch': [64, 64], 'exploration_fraction': 0.17336180394137352, 'batch_size': 64}. Best is trial 1 with value: 7.4.\n"
     ]
    },
    {
     "name": "stdout",
     "output_type": "stream",
     "text": [
      "Saved new best fine-tuned model (trial 1)\n",
      "Starting training for trial 2...\n"
     ]
    },
    {
     "name": "stderr",
     "output_type": "stream",
     "text": [
      "c:\\Users\\sanja\\anaconda3\\envs\\highway\\lib\\site-packages\\optuna\\distributions.py:518: UserWarning: Choices for a categorical distribution should be a tuple of None, bool, int, float and str for persistent storage but contains [64, 64] which is of type list.\n",
      "  warnings.warn(message)\n",
      "c:\\Users\\sanja\\anaconda3\\envs\\highway\\lib\\site-packages\\optuna\\distributions.py:518: UserWarning: Choices for a categorical distribution should be a tuple of None, bool, int, float and str for persistent storage but contains [128, 128] which is of type list.\n",
      "  warnings.warn(message)\n",
      "c:\\Users\\sanja\\anaconda3\\envs\\highway\\lib\\site-packages\\optuna\\distributions.py:518: UserWarning: Choices for a categorical distribution should be a tuple of None, bool, int, float and str for persistent storage but contains [256, 256] which is of type list.\n",
      "  warnings.warn(message)\n",
      "c:\\Users\\sanja\\anaconda3\\envs\\highway\\lib\\site-packages\\gymnasium\\envs\\registration.py:513: DeprecationWarning: \u001b[33mWARN: The environment intersection-v0 is out of date. You should consider upgrading to version `v1`.\u001b[0m\n",
      "  logger.deprecation(\n",
      "[I 2025-07-31 00:09:39,891] Trial 2 finished with value: 3.6 and parameters: {'learning_rate': 0.00016738085788752134, 'gamma': 0.8707845852371542, 'net_arch': [256, 256], 'exploration_fraction': 0.41407038455720546, 'batch_size': 128}. Best is trial 1 with value: 7.4.\n",
      "c:\\Users\\sanja\\anaconda3\\envs\\highway\\lib\\site-packages\\optuna\\distributions.py:518: UserWarning: Choices for a categorical distribution should be a tuple of None, bool, int, float and str for persistent storage but contains [64, 64] which is of type list.\n",
      "  warnings.warn(message)\n",
      "c:\\Users\\sanja\\anaconda3\\envs\\highway\\lib\\site-packages\\optuna\\distributions.py:518: UserWarning: Choices for a categorical distribution should be a tuple of None, bool, int, float and str for persistent storage but contains [128, 128] which is of type list.\n",
      "  warnings.warn(message)\n",
      "c:\\Users\\sanja\\anaconda3\\envs\\highway\\lib\\site-packages\\optuna\\distributions.py:518: UserWarning: Choices for a categorical distribution should be a tuple of None, bool, int, float and str for persistent storage but contains [256, 256] which is of type list.\n",
      "  warnings.warn(message)\n",
      "c:\\Users\\sanja\\anaconda3\\envs\\highway\\lib\\site-packages\\gymnasium\\envs\\registration.py:513: DeprecationWarning: \u001b[33mWARN: The environment intersection-v0 is out of date. You should consider upgrading to version `v1`.\u001b[0m\n",
      "  logger.deprecation(\n"
     ]
    },
    {
     "name": "stdout",
     "output_type": "stream",
     "text": [
      "Starting training for trial 3...\n"
     ]
    },
    {
     "name": "stderr",
     "output_type": "stream",
     "text": [
      "[I 2025-07-31 00:16:31,528] Trial 3 pruned. \n",
      "c:\\Users\\sanja\\anaconda3\\envs\\highway\\lib\\site-packages\\optuna\\distributions.py:518: UserWarning: Choices for a categorical distribution should be a tuple of None, bool, int, float and str for persistent storage but contains [64, 64] which is of type list.\n",
      "  warnings.warn(message)\n",
      "c:\\Users\\sanja\\anaconda3\\envs\\highway\\lib\\site-packages\\optuna\\distributions.py:518: UserWarning: Choices for a categorical distribution should be a tuple of None, bool, int, float and str for persistent storage but contains [128, 128] which is of type list.\n",
      "  warnings.warn(message)\n",
      "c:\\Users\\sanja\\anaconda3\\envs\\highway\\lib\\site-packages\\optuna\\distributions.py:518: UserWarning: Choices for a categorical distribution should be a tuple of None, bool, int, float and str for persistent storage but contains [256, 256] which is of type list.\n",
      "  warnings.warn(message)\n",
      "c:\\Users\\sanja\\anaconda3\\envs\\highway\\lib\\site-packages\\gymnasium\\envs\\registration.py:513: DeprecationWarning: \u001b[33mWARN: The environment intersection-v0 is out of date. You should consider upgrading to version `v1`.\u001b[0m\n",
      "  logger.deprecation(\n"
     ]
    },
    {
     "name": "stdout",
     "output_type": "stream",
     "text": [
      "Starting training for trial 4...\n"
     ]
    },
    {
     "name": "stderr",
     "output_type": "stream",
     "text": [
      "[I 2025-07-31 00:27:56,006] Trial 4 finished with value: 5.2 and parameters: {'learning_rate': 1.7541893487450798e-05, 'gamma': 0.9237813596065793, 'net_arch': [128, 128], 'exploration_fraction': 0.36500891374159283, 'batch_size': 128}. Best is trial 1 with value: 7.4.\n",
      "c:\\Users\\sanja\\anaconda3\\envs\\highway\\lib\\site-packages\\optuna\\distributions.py:518: UserWarning: Choices for a categorical distribution should be a tuple of None, bool, int, float and str for persistent storage but contains [64, 64] which is of type list.\n",
      "  warnings.warn(message)\n",
      "c:\\Users\\sanja\\anaconda3\\envs\\highway\\lib\\site-packages\\optuna\\distributions.py:518: UserWarning: Choices for a categorical distribution should be a tuple of None, bool, int, float and str for persistent storage but contains [128, 128] which is of type list.\n",
      "  warnings.warn(message)\n",
      "c:\\Users\\sanja\\anaconda3\\envs\\highway\\lib\\site-packages\\optuna\\distributions.py:518: UserWarning: Choices for a categorical distribution should be a tuple of None, bool, int, float and str for persistent storage but contains [256, 256] which is of type list.\n",
      "  warnings.warn(message)\n",
      "c:\\Users\\sanja\\anaconda3\\envs\\highway\\lib\\site-packages\\gymnasium\\envs\\registration.py:513: DeprecationWarning: \u001b[33mWARN: The environment intersection-v0 is out of date. You should consider upgrading to version `v1`.\u001b[0m\n",
      "  logger.deprecation(\n"
     ]
    },
    {
     "name": "stdout",
     "output_type": "stream",
     "text": [
      "Starting training for trial 5...\n"
     ]
    },
    {
     "name": "stderr",
     "output_type": "stream",
     "text": [
      "[I 2025-07-31 00:36:22,662] Trial 5 finished with value: 5.0 and parameters: {'learning_rate': 0.0008692991511139548, 'gamma': 0.965494790680806, 'net_arch': [64, 64], 'exploration_fraction': 0.4687496940092467, 'batch_size': 256}. Best is trial 1 with value: 7.4.\n",
      "c:\\Users\\sanja\\anaconda3\\envs\\highway\\lib\\site-packages\\optuna\\distributions.py:518: UserWarning: Choices for a categorical distribution should be a tuple of None, bool, int, float and str for persistent storage but contains [64, 64] which is of type list.\n",
      "  warnings.warn(message)\n",
      "c:\\Users\\sanja\\anaconda3\\envs\\highway\\lib\\site-packages\\optuna\\distributions.py:518: UserWarning: Choices for a categorical distribution should be a tuple of None, bool, int, float and str for persistent storage but contains [128, 128] which is of type list.\n",
      "  warnings.warn(message)\n",
      "c:\\Users\\sanja\\anaconda3\\envs\\highway\\lib\\site-packages\\optuna\\distributions.py:518: UserWarning: Choices for a categorical distribution should be a tuple of None, bool, int, float and str for persistent storage but contains [256, 256] which is of type list.\n",
      "  warnings.warn(message)\n",
      "c:\\Users\\sanja\\anaconda3\\envs\\highway\\lib\\site-packages\\gymnasium\\envs\\registration.py:513: DeprecationWarning: \u001b[33mWARN: The environment intersection-v0 is out of date. You should consider upgrading to version `v1`.\u001b[0m\n",
      "  logger.deprecation(\n"
     ]
    },
    {
     "name": "stdout",
     "output_type": "stream",
     "text": [
      "Starting training for trial 6...\n"
     ]
    },
    {
     "name": "stderr",
     "output_type": "stream",
     "text": [
      "[I 2025-07-31 00:44:46,631] Trial 6 finished with value: 1.3400026 and parameters: {'learning_rate': 5.989003672254293e-05, 'gamma': 0.8904310057343104, 'net_arch': [64, 64], 'exploration_fraction': 0.31707843326329943, 'batch_size': 256}. Best is trial 1 with value: 7.4.\n",
      "c:\\Users\\sanja\\anaconda3\\envs\\highway\\lib\\site-packages\\optuna\\distributions.py:518: UserWarning: Choices for a categorical distribution should be a tuple of None, bool, int, float and str for persistent storage but contains [64, 64] which is of type list.\n",
      "  warnings.warn(message)\n",
      "c:\\Users\\sanja\\anaconda3\\envs\\highway\\lib\\site-packages\\optuna\\distributions.py:518: UserWarning: Choices for a categorical distribution should be a tuple of None, bool, int, float and str for persistent storage but contains [128, 128] which is of type list.\n",
      "  warnings.warn(message)\n",
      "c:\\Users\\sanja\\anaconda3\\envs\\highway\\lib\\site-packages\\optuna\\distributions.py:518: UserWarning: Choices for a categorical distribution should be a tuple of None, bool, int, float and str for persistent storage but contains [256, 256] which is of type list.\n",
      "  warnings.warn(message)\n",
      "c:\\Users\\sanja\\anaconda3\\envs\\highway\\lib\\site-packages\\gymnasium\\envs\\registration.py:513: DeprecationWarning: \u001b[33mWARN: The environment intersection-v0 is out of date. You should consider upgrading to version `v1`.\u001b[0m\n",
      "  logger.deprecation(\n"
     ]
    },
    {
     "name": "stdout",
     "output_type": "stream",
     "text": [
      "Starting training for trial 7...\n"
     ]
    },
    {
     "name": "stderr",
     "output_type": "stream",
     "text": [
      "[I 2025-07-31 00:46:27,129] Trial 7 pruned. \n"
     ]
    },
    {
     "name": "stdout",
     "output_type": "stream",
     "text": [
      "✅ Fine tuning complete.\n"
     ]
    }
   ],
   "source": [
    "import os\n",
    "import json\n",
    "import optuna\n",
    "import torch\n",
    "import gymnasium as gym\n",
    "from stable_baselines3 import DQN\n",
    "from stable_baselines3.common.monitor import Monitor\n",
    "from stable_baselines3.common.env_util import make_vec_env\n",
    "from stable_baselines3.common.evaluation import evaluate_policy\n",
    "from stable_baselines3.common.callbacks import BaseCallback\n",
    "from optuna.pruners import MedianPruner\n",
    "\n",
    "# === Configuration ===\n",
    "SAVE_DIR = \"../trained_models/intersection/DQN/\"\n",
    "os.makedirs(SAVE_DIR, exist_ok=True)\n",
    "\n",
    "FINE_MODEL_PATH = os.path.join(SAVE_DIR, \"DQN_best_fine.zip\")\n",
    "\n",
    "# === Globals to hold best model ===\n",
    "best_reward = -float(\"inf\")\n",
    "\n",
    "# === Optuna Callback for pruning ===\n",
    "class OptunaCallback(BaseCallback):\n",
    "    def __init__(self, trial, eval_freq=2000, n_eval_episodes=3, verbose=0):\n",
    "        super().__init__(verbose)\n",
    "        self.trial = trial\n",
    "        self.eval_freq = eval_freq\n",
    "        self.n_eval_episodes = n_eval_episodes\n",
    "\n",
    "    def _on_step(self):\n",
    "        if self.n_calls % self.eval_freq == 0:\n",
    "            reward, _ = evaluate_policy(self.model, self.training_env, n_eval_episodes=self.n_eval_episodes, deterministic=True)\n",
    "            self.trial.report(reward, self.n_calls)\n",
    "            if self.trial.should_prune():\n",
    "                raise optuna.exceptions.TrialPruned()\n",
    "        return True\n",
    "# === Objective Function ===\n",
    "def objective(trial):\n",
    "    global best_reward\n",
    "\n",
    "    # fine tuning: explore main params\n",
    "    learning_rate = trial.suggest_float(\"learning_rate\", 1e-5, 1e-3, log=True)\n",
    "    gamma = trial.suggest_float(\"gamma\", 0.85, 0.999)\n",
    "    net_arch = trial.suggest_categorical(\"net_arch\", [[64, 64], [128, 128], [256, 256]])\n",
    "    gamma = trial.suggest_float(\"gamma\", 0.85, 0.999)\n",
    "    exploration_fraction = trial.suggest_float(\"exploration_fraction\", 0.1, 0.5)\n",
    "    batch_size = trial.suggest_categorical(\"batch_size\", [32, 64, 128, 256])\n",
    "\n",
    "    config = {\n",
    "        \"learning_rate\": learning_rate,\n",
    "        \"gamma\": gamma,\n",
    "        \"net_arch\": net_arch,\n",
    "        \"exploration_fraction\": exploration_fraction,\n",
    "        \"batch_size\": batch_size,\n",
    "    }\n",
    "\n",
    "    # Create env and model\n",
    "    env = make_vec_env(make_env(), n_envs=1)\n",
    "    model = DQN(\n",
    "        \"MlpPolicy\",\n",
    "        env,\n",
    "        learning_rate=config[\"learning_rate\"],\n",
    "        gamma=config[\"gamma\"],\n",
    "        policy_kwargs={\"net_arch\": config[\"net_arch\"]},\n",
    "        exploration_fraction=config[\"exploration_fraction\"],\n",
    "        batch_size=config[\"batch_size\"],\n",
    "        verbose=0,\n",
    "        tensorboard_log=f\"../tensorboard_logs/intersection/DQN_phase_fine/\",\n",
    "        device=\"cuda\" if torch.cuda.is_available() else \"cpu\"\n",
    "    )\n",
    "\n",
    "    print(f\"Starting training for trial {trial.number}...\")\n",
    "    model.learn(total_timesteps=10_000, callback=OptunaCallback(trial))\n",
    "\n",
    "    mean_reward, _ = evaluate_policy(model, env, n_eval_episodes=5, deterministic=True)\n",
    "    trial.set_user_attr(\"mean_reward\", mean_reward)\n",
    "\n",
    "    # Save best model immediately when improved\n",
    "    if mean_reward > best_reward:\n",
    "        best_reward = mean_reward\n",
    "        model.save(FINE_MODEL_PATH)\n",
    "        print(f\"Saved new best fine-tuned model (trial {trial.number})\")\n",
    "    return mean_reward\n",
    "\n",
    "# === PHASE 1: Coarse Tuning ===\n",
    "def run_fine_tune():\n",
    "    print(\"🔍 Starting FINE tuning...\")\n",
    "    study = optuna.create_study(\n",
    "        direction=\"maximize\",\n",
    "        sampler=optuna.samplers.TPESampler(seed=42),\n",
    "        pruner=MedianPruner(n_startup_trials=3, n_warmup_steps=1)\n",
    "    )\n",
    "    study.optimize(lambda trial: objective(trial), n_trials=8)\n",
    "    print(\"✅ Fine tuning complete.\")\n",
    "\n",
    "# === MAIN ===\n",
    "run_fine = True\n",
    "\n",
    "if run_fine:\n",
    "    run_fine_tune()\n"
   ]
  },
  {
   "cell_type": "code",
   "execution_count": 6,
   "id": "2d50a9c6",
   "metadata": {},
   "outputs": [
    {
     "name": "stderr",
     "output_type": "stream",
     "text": [
      "c:\\Users\\sanja\\anaconda3\\envs\\highway\\lib\\site-packages\\gymnasium\\envs\\registration.py:513: DeprecationWarning: \u001b[33mWARN: The environment intersection-v0 is out of date. You should consider upgrading to version `v1`.\u001b[0m\n",
      "  logger.deprecation(\n"
     ]
    },
    {
     "name": "stdout",
     "output_type": "stream",
     "text": [
      "✅ Saved checkpoint at 10000 timesteps\n",
      "✅ Saved checkpoint at 20000 timesteps\n",
      "✅ Saved checkpoint at 30000 timesteps\n",
      "✅ Saved checkpoint at 40000 timesteps\n",
      "✅ Final model saved at ../trained_models/intersection/DQN/DQN_trained_tuned.zip\n"
     ]
    }
   ],
   "source": [
    "import os\n",
    "from stable_baselines3 import DQN\n",
    "from stable_baselines3.common.env_util import make_vec_env\n",
    "from stable_baselines3.common.monitor import Monitor\n",
    "import gymnasium as gym\n",
    "\n",
    "SAVE_DIR = \"../trained_models/intersection/DQN/\"\n",
    "# === Load trained Optuna model ===\n",
    "model_path = os.path.join(SAVE_DIR, \"DQN_best_fine.zip\")\n",
    "model = DQN.load(model_path)\n",
    "\n",
    "# === Environment for continued training ===\n",
    "train_env = make_vec_env(make_env(), n_envs=1)\n",
    "\n",
    "# === Rebind environment in case original wasn't saved in model ===\n",
    "model.set_env(train_env)\n",
    "\n",
    "# === Training configuration ===\n",
    "total_timesteps = 40000\n",
    "save_interval = 10000\n",
    "timesteps_run = 0\n",
    "\n",
    "cp_log_dir = f\"../checkpoints/intersection/DQN_optuna\"\n",
    "os.makedirs(cp_log_dir, exist_ok=True)\n",
    "\n",
    "while timesteps_run < total_timesteps:\n",
    "    model.learn(\n",
    "        total_timesteps=save_interval,\n",
    "        reset_num_timesteps=False,\n",
    "        tb_log_name=\"intersection_DQN_optuna\",\n",
    "        log_interval=1,\n",
    "    )\n",
    "    timesteps_run += save_interval\n",
    "    model.save(f\"{cp_log_dir}/{timesteps_run}\")\n",
    "    print(f\"✅ Saved checkpoint at {timesteps_run} timesteps\")\n",
    "\n",
    "# === Save final model ===\n",
    "final_model_path = os.path.join(SAVE_DIR, \"DQN_trained_tuned.zip\")\n",
    "model.save(final_model_path)\n",
    "print(f\"✅ Final model saved at {final_model_path}\")\n"
   ]
  }
 ],
 "metadata": {
  "kernelspec": {
   "display_name": "highway",
   "language": "python",
   "name": "python3"
  },
  "language_info": {
   "codemirror_mode": {
    "name": "ipython",
    "version": 3
   },
   "file_extension": ".py",
   "mimetype": "text/x-python",
   "name": "python",
   "nbconvert_exporter": "python",
   "pygments_lexer": "ipython3",
   "version": "3.8.20"
  }
 },
 "nbformat": 4,
 "nbformat_minor": 5
}
